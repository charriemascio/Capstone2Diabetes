{
 "cells": [
  {
   "cell_type": "markdown",
   "id": "abe9942c",
   "metadata": {},
   "source": [
    "\n",
    "Diabetes Health Indicators Dataset\n",
    "\n",
    "The purpose of this code notebook is to clean and prepare the BRFSS data into a useable format to predict the accuracy if a person might have diabetes or is at risk of diabetes by finding out what risk factors are the most predictive of diabetic risk.\n",
    "\n",
    "The dataset is from kaggle. This project will be using only the diabetes_binary_5050split_health_indictors_BRFSS2015.csv. This is a clean dataset of 70692 survey repsonses to CDC's BRFSS2015. It has a 50-50 split of respondents with no diabetes and with either predediabetes or diabetes. The target variable Diabetes_binary has 2 classs. 0 is for no diabetes and 1 is for prediabetes or diabetes.It has 22 feature variables and is balanced.\n",
    "\n",
    "Based on the diabetes disease research regarding factors influencing diabetes disease and other chronic health conditions, only select features are included in this analysis.\n",
    "\n",
    "Research in the field has identified the following as important risk factors for diabetes and other chronic illnesses like heart disease (not in strict order of importance). The following are the selected subset of features from BRFSS2015.\n",
    "\n",
    "    diabetes binary (0 = no diabetes; 1 = prediabetes/diabetes)\n",
    "    high blood pressure (0 = no high BP; 1 = high BP)\n",
    "    high cholesterol (0 = no high cholesterol; 1 = high cholesterol)\n",
    "    cholesterol check (0 = no choesterol check in 5 years; 1 = yes cholesterol check in 5 years)\n",
    "    BMI (body mass index)\n",
    "    smoker (smoke at least 100 cigarettes in entire life; 5 packs = 100 cigarettes; 0 = no; 1 = yes)\n",
    "    stroke (ever toled has a stroke; 0 = no; 1 = yes)\n",
    "    heart disease or attack (coronary heart disease(CHD) or myocardial infarction(MI); o = no; 1 = yes)\n",
    "    physical activity (in past 30 days not including job; 0 = no; 1 = yes))\n",
    "    fruits (consumed 1 or more times per day; 0 = no; 1 = yes)\n",
    "    veggies (consumed 1 or more times per day; 0 = no; 1 = yes)\n",
    "    heavy alcohol consumption (adult men =>14 drinks per week; adult women =>7 drinks per week; 0 = no; 1 = yes)\n",
    "    any healthcare (any kind of healthcare coverage including health insurance, prepaid plans (HMO etc); 0 = no; 1 = yes)\n",
    "    no doctor because of cost (past 12 months when needed to see doctor but could not because of cost?; 0 = no; 1 = yes)\n",
    "    general health (is general health 5 scale; 1 = excellent; 2 = very good; 3 = good; 4 = fair; 5 = poor)\n",
    "    mental health (days of poor mental health 1-30 days)\n",
    "    physical health (physical illness or injury days in past 30 days scale of 1-30)\n",
    "    difficulty walking (have serious difficulty walking or climbing stairs? 0 = no; 1 = yes)\n",
    "    sex (0 = female; 1 = male)\n",
    "    age (14 level age category; 1 = 18-24; 2 = 25-29; 3 = 30-34; 4 = 35-39; 5 = 40-44; 6 = 45-49; 7 = 50-54; 8 = 55-59; 9 = 60-64; 10 = 65-69; 11 = 70-74; 13 = >80; 14 = not know/not sure/refused/missing)\n",
    "    education (scale 1-8; 1 = never attended school or only kindergarten; 2 = elementary; 3 = some high school; 4 = high school graduate; 5 = some college; 6 = college graduate; 9 = refused)\n",
    "    income (scale 1-8; 1 = <10K; 2 = <15K; 3 = <20K; 4 = <25K; 5 = <35K; 6 = <50K; 7 <75K; 8 = >or more 75K; 77 = not know/not sure; 99 = refused)\n",
    "  \n",
    "The selected subset of Features (columns from the dataset) from BRFSS 2015 was further investigated for additional information in order to understand the meaning of the data gathered from the BRFSS 2015 codebook from the survey.\n",
    "\n",
    "Additional information about the BRFSS 2015 codebook and relevant paper are as follows:\n",
    "\n",
    "BRFSS 2015 Codebook: https://www.cdc.gov/brfss/annual_data/2015/pdf/codebook15_llcp.pdf\n",
    "\n",
    "Relevant Research Paper using BRFSS for Diabetes ML: https://www.cdc.gov/pcd/issues/2019/19_0109.htm"
   ]
  },
  {
   "cell_type": "markdown",
   "id": "0a44dca9",
   "metadata": {},
   "source": [
    "Data Wrangling\n",
    "\n",
    "Data Collection:\n",
    "Goal: organize the data to streamline the next steps of the capstone project\n",
    "Performed:\n",
    "    Data loading\n",
    "\n",
    "Data Organization:\n",
    "Goal: Create the file structure and add the work project tot he GitHub repository created for this project\n",
    "    A file structure was created in GitHub for repository for this capstone project and glob library also downloaded for the project\n",
    "\n",
    "Data Definition:\n",
    "Goal: Gain an understanding of the data features to inform the next steps of the project\n",
    "    Performed:\n",
    "    Check the column names, data types, described the columns, counts, percents of unique values, ranges of the values\n",
    "    \n",
    "Data Cleaning:\n",
    "Goal: Clean up the data in order to prepare it for the next steps of the project\n",
    "    Performed:\n",
    "    Checking for missing values, NaN values, duplicates using appply(), nunique(), .isnull().values.any()\n",
    "    "
   ]
  },
  {
   "cell_type": "code",
   "execution_count": 2,
   "id": "e967b2fc",
   "metadata": {},
   "outputs": [],
   "source": [
    "# Imports\n",
    "import os\n",
    "import pandas as pd\n",
    "import numpy as np\n",
    "import glob\n",
    "import random\n",
    "random.seed(1)\n",
    "import matplotlib.pyplot as plt"
   ]
  },
  {
   "cell_type": "markdown",
   "id": "33a17efd",
   "metadata": {},
   "source": [
    "This is the best place to put all the libraries needed for the project"
   ]
  },
  {
   "cell_type": "code",
   "execution_count": 3,
   "id": "7b91b781",
   "metadata": {},
   "outputs": [],
   "source": [
    "#read in the dataset (select 2015)\n",
    "brfss2015_dataset = pd.read_csv('BRFSSdata/diabetes_binary_5050split_health_indicators_BRFSS2015.csv')"
   ]
  },
  {
   "cell_type": "markdown",
   "id": "d0a462dd",
   "metadata": {},
   "source": [
    "The dataset is imported from the source: kaggle using the pd.read_csv"
   ]
  },
  {
   "cell_type": "code",
   "execution_count": 5,
   "id": "29529590",
   "metadata": {},
   "outputs": [
    {
     "data": {
      "text/html": [
       "<div>\n",
       "<style scoped>\n",
       "    .dataframe tbody tr th:only-of-type {\n",
       "        vertical-align: middle;\n",
       "    }\n",
       "\n",
       "    .dataframe tbody tr th {\n",
       "        vertical-align: top;\n",
       "    }\n",
       "\n",
       "    .dataframe thead th {\n",
       "        text-align: right;\n",
       "    }\n",
       "</style>\n",
       "<table border=\"1\" class=\"dataframe\">\n",
       "  <thead>\n",
       "    <tr style=\"text-align: right;\">\n",
       "      <th></th>\n",
       "      <th>0</th>\n",
       "      <th>1</th>\n",
       "      <th>2</th>\n",
       "      <th>3</th>\n",
       "      <th>4</th>\n",
       "      <th>5</th>\n",
       "      <th>6</th>\n",
       "      <th>7</th>\n",
       "      <th>8</th>\n",
       "      <th>9</th>\n",
       "      <th>...</th>\n",
       "      <th>70682</th>\n",
       "      <th>70683</th>\n",
       "      <th>70684</th>\n",
       "      <th>70685</th>\n",
       "      <th>70686</th>\n",
       "      <th>70687</th>\n",
       "      <th>70688</th>\n",
       "      <th>70689</th>\n",
       "      <th>70690</th>\n",
       "      <th>70691</th>\n",
       "    </tr>\n",
       "  </thead>\n",
       "  <tbody>\n",
       "    <tr>\n",
       "      <th>Diabetes_binary</th>\n",
       "      <td>0.0</td>\n",
       "      <td>0.0</td>\n",
       "      <td>0.0</td>\n",
       "      <td>0.0</td>\n",
       "      <td>0.0</td>\n",
       "      <td>0.0</td>\n",
       "      <td>0.0</td>\n",
       "      <td>0.0</td>\n",
       "      <td>0.0</td>\n",
       "      <td>0.0</td>\n",
       "      <td>...</td>\n",
       "      <td>1.0</td>\n",
       "      <td>1.0</td>\n",
       "      <td>1.0</td>\n",
       "      <td>1.0</td>\n",
       "      <td>1.0</td>\n",
       "      <td>1.0</td>\n",
       "      <td>1.0</td>\n",
       "      <td>1.0</td>\n",
       "      <td>1.0</td>\n",
       "      <td>1.0</td>\n",
       "    </tr>\n",
       "    <tr>\n",
       "      <th>HighBP</th>\n",
       "      <td>1.0</td>\n",
       "      <td>1.0</td>\n",
       "      <td>0.0</td>\n",
       "      <td>1.0</td>\n",
       "      <td>0.0</td>\n",
       "      <td>0.0</td>\n",
       "      <td>0.0</td>\n",
       "      <td>0.0</td>\n",
       "      <td>0.0</td>\n",
       "      <td>0.0</td>\n",
       "      <td>...</td>\n",
       "      <td>1.0</td>\n",
       "      <td>1.0</td>\n",
       "      <td>1.0</td>\n",
       "      <td>1.0</td>\n",
       "      <td>0.0</td>\n",
       "      <td>0.0</td>\n",
       "      <td>0.0</td>\n",
       "      <td>1.0</td>\n",
       "      <td>1.0</td>\n",
       "      <td>1.0</td>\n",
       "    </tr>\n",
       "    <tr>\n",
       "      <th>HighChol</th>\n",
       "      <td>0.0</td>\n",
       "      <td>1.0</td>\n",
       "      <td>0.0</td>\n",
       "      <td>1.0</td>\n",
       "      <td>0.0</td>\n",
       "      <td>0.0</td>\n",
       "      <td>1.0</td>\n",
       "      <td>0.0</td>\n",
       "      <td>0.0</td>\n",
       "      <td>0.0</td>\n",
       "      <td>...</td>\n",
       "      <td>0.0</td>\n",
       "      <td>0.0</td>\n",
       "      <td>1.0</td>\n",
       "      <td>0.0</td>\n",
       "      <td>1.0</td>\n",
       "      <td>1.0</td>\n",
       "      <td>1.0</td>\n",
       "      <td>1.0</td>\n",
       "      <td>1.0</td>\n",
       "      <td>1.0</td>\n",
       "    </tr>\n",
       "    <tr>\n",
       "      <th>CholCheck</th>\n",
       "      <td>1.0</td>\n",
       "      <td>1.0</td>\n",
       "      <td>1.0</td>\n",
       "      <td>1.0</td>\n",
       "      <td>1.0</td>\n",
       "      <td>1.0</td>\n",
       "      <td>1.0</td>\n",
       "      <td>1.0</td>\n",
       "      <td>1.0</td>\n",
       "      <td>1.0</td>\n",
       "      <td>...</td>\n",
       "      <td>1.0</td>\n",
       "      <td>1.0</td>\n",
       "      <td>1.0</td>\n",
       "      <td>1.0</td>\n",
       "      <td>1.0</td>\n",
       "      <td>1.0</td>\n",
       "      <td>1.0</td>\n",
       "      <td>1.0</td>\n",
       "      <td>1.0</td>\n",
       "      <td>1.0</td>\n",
       "    </tr>\n",
       "    <tr>\n",
       "      <th>BMI</th>\n",
       "      <td>26.0</td>\n",
       "      <td>26.0</td>\n",
       "      <td>26.0</td>\n",
       "      <td>28.0</td>\n",
       "      <td>29.0</td>\n",
       "      <td>18.0</td>\n",
       "      <td>26.0</td>\n",
       "      <td>31.0</td>\n",
       "      <td>32.0</td>\n",
       "      <td>27.0</td>\n",
       "      <td>...</td>\n",
       "      <td>37.0</td>\n",
       "      <td>28.0</td>\n",
       "      <td>27.0</td>\n",
       "      <td>38.0</td>\n",
       "      <td>27.0</td>\n",
       "      <td>37.0</td>\n",
       "      <td>29.0</td>\n",
       "      <td>25.0</td>\n",
       "      <td>18.0</td>\n",
       "      <td>25.0</td>\n",
       "    </tr>\n",
       "  </tbody>\n",
       "</table>\n",
       "<p>5 rows × 70692 columns</p>\n",
       "</div>"
      ],
      "text/plain": [
       "                 0      1      2      3      4      5      6      7      \\\n",
       "Diabetes_binary    0.0    0.0    0.0    0.0    0.0    0.0    0.0    0.0   \n",
       "HighBP             1.0    1.0    0.0    1.0    0.0    0.0    0.0    0.0   \n",
       "HighChol           0.0    1.0    0.0    1.0    0.0    0.0    1.0    0.0   \n",
       "CholCheck          1.0    1.0    1.0    1.0    1.0    1.0    1.0    1.0   \n",
       "BMI               26.0   26.0   26.0   28.0   29.0   18.0   26.0   31.0   \n",
       "\n",
       "                 8      9      ...  70682  70683  70684  70685  70686  70687  \\\n",
       "Diabetes_binary    0.0    0.0  ...    1.0    1.0    1.0    1.0    1.0    1.0   \n",
       "HighBP             0.0    0.0  ...    1.0    1.0    1.0    1.0    0.0    0.0   \n",
       "HighChol           0.0    0.0  ...    0.0    0.0    1.0    0.0    1.0    1.0   \n",
       "CholCheck          1.0    1.0  ...    1.0    1.0    1.0    1.0    1.0    1.0   \n",
       "BMI               32.0   27.0  ...   37.0   28.0   27.0   38.0   27.0   37.0   \n",
       "\n",
       "                 70688  70689  70690  70691  \n",
       "Diabetes_binary    1.0    1.0    1.0    1.0  \n",
       "HighBP             0.0    1.0    1.0    1.0  \n",
       "HighChol           1.0    1.0    1.0    1.0  \n",
       "CholCheck          1.0    1.0    1.0    1.0  \n",
       "BMI               29.0   25.0   18.0   25.0  \n",
       "\n",
       "[5 rows x 70692 columns]"
      ]
     },
     "execution_count": 5,
     "metadata": {},
     "output_type": "execute_result"
    }
   ],
   "source": [
    "#check the head of the transposed dataframe\n",
    "brfss2015_dataset.T.head()"
   ]
  },
  {
   "cell_type": "markdown",
   "id": "86a7ee30",
   "metadata": {},
   "source": [
    "Check to see the top 5 of the dataset"
   ]
  },
  {
   "cell_type": "code",
   "execution_count": 3,
   "id": "4b14f471",
   "metadata": {},
   "outputs": [
    {
     "name": "stdout",
     "output_type": "stream",
     "text": [
      "<class 'pandas.core.frame.DataFrame'>\n",
      "RangeIndex: 70692 entries, 0 to 70691\n",
      "Data columns (total 22 columns):\n",
      " #   Column                Non-Null Count  Dtype  \n",
      "---  ------                --------------  -----  \n",
      " 0   Diabetes_binary       70692 non-null  float64\n",
      " 1   HighBP                70692 non-null  float64\n",
      " 2   HighChol              70692 non-null  float64\n",
      " 3   CholCheck             70692 non-null  float64\n",
      " 4   BMI                   70692 non-null  float64\n",
      " 5   Smoker                70692 non-null  float64\n",
      " 6   Stroke                70692 non-null  float64\n",
      " 7   HeartDiseaseorAttack  70692 non-null  float64\n",
      " 8   PhysActivity          70692 non-null  float64\n",
      " 9   Fruits                70692 non-null  float64\n",
      " 10  Veggies               70692 non-null  float64\n",
      " 11  HvyAlcoholConsump     70692 non-null  float64\n",
      " 12  AnyHealthcare         70692 non-null  float64\n",
      " 13  NoDocbcCost           70692 non-null  float64\n",
      " 14  GenHlth               70692 non-null  float64\n",
      " 15  MentHlth              70692 non-null  float64\n",
      " 16  PhysHlth              70692 non-null  float64\n",
      " 17  DiffWalk              70692 non-null  float64\n",
      " 18  Sex                   70692 non-null  float64\n",
      " 19  Age                   70692 non-null  float64\n",
      " 20  Education             70692 non-null  float64\n",
      " 21  Income                70692 non-null  float64\n",
      "dtypes: float64(22)\n",
      "memory usage: 11.9 MB\n"
     ]
    }
   ],
   "source": [
    "#call the  info method on brfss2015_dataset to see a summary of the data and the datatypes present\n",
    "brfss2015_dataset.info()"
   ]
  },
  {
   "cell_type": "markdown",
   "id": "89c8e1a8",
   "metadata": {},
   "source": [
    "These are floats and could be integers since the data are already categorized'\n",
    "This gives a summary of the infoin the dataset"
   ]
  },
  {
   "cell_type": "code",
   "execution_count": 4,
   "id": "fe3b6f24",
   "metadata": {},
   "outputs": [
    {
     "data": {
      "text/plain": [
       "(70692, 22)"
      ]
     },
     "execution_count": 4,
     "metadata": {},
     "output_type": "execute_result"
    }
   ],
   "source": [
    "#find out the shape of the data to determine the number of rows and columns\n",
    "brfss2015_dataset.shape"
   ]
  },
  {
   "cell_type": "markdown",
   "id": "5816129e",
   "metadata": {},
   "source": [
    "This gives a better picture of the number of rows and columns of the dataset"
   ]
  },
  {
   "cell_type": "code",
   "execution_count": 5,
   "id": "c85a4248",
   "metadata": {},
   "outputs": [
    {
     "data": {
      "text/html": [
       "<div>\n",
       "<style scoped>\n",
       "    .dataframe tbody tr th:only-of-type {\n",
       "        vertical-align: middle;\n",
       "    }\n",
       "\n",
       "    .dataframe tbody tr th {\n",
       "        vertical-align: top;\n",
       "    }\n",
       "\n",
       "    .dataframe thead th {\n",
       "        text-align: right;\n",
       "    }\n",
       "</style>\n",
       "<table border=\"1\" class=\"dataframe\">\n",
       "  <thead>\n",
       "    <tr style=\"text-align: right;\">\n",
       "      <th></th>\n",
       "      <th>0</th>\n",
       "      <th>1</th>\n",
       "      <th>2</th>\n",
       "      <th>3</th>\n",
       "      <th>4</th>\n",
       "    </tr>\n",
       "  </thead>\n",
       "  <tbody>\n",
       "    <tr>\n",
       "      <th>Diabetes_binary</th>\n",
       "      <td>0.0</td>\n",
       "      <td>0.0</td>\n",
       "      <td>0.0</td>\n",
       "      <td>0.0</td>\n",
       "      <td>0.0</td>\n",
       "    </tr>\n",
       "    <tr>\n",
       "      <th>HighBP</th>\n",
       "      <td>1.0</td>\n",
       "      <td>1.0</td>\n",
       "      <td>0.0</td>\n",
       "      <td>1.0</td>\n",
       "      <td>0.0</td>\n",
       "    </tr>\n",
       "    <tr>\n",
       "      <th>HighChol</th>\n",
       "      <td>0.0</td>\n",
       "      <td>1.0</td>\n",
       "      <td>0.0</td>\n",
       "      <td>1.0</td>\n",
       "      <td>0.0</td>\n",
       "    </tr>\n",
       "    <tr>\n",
       "      <th>CholCheck</th>\n",
       "      <td>1.0</td>\n",
       "      <td>1.0</td>\n",
       "      <td>1.0</td>\n",
       "      <td>1.0</td>\n",
       "      <td>1.0</td>\n",
       "    </tr>\n",
       "    <tr>\n",
       "      <th>BMI</th>\n",
       "      <td>26.0</td>\n",
       "      <td>26.0</td>\n",
       "      <td>26.0</td>\n",
       "      <td>28.0</td>\n",
       "      <td>29.0</td>\n",
       "    </tr>\n",
       "    <tr>\n",
       "      <th>Smoker</th>\n",
       "      <td>0.0</td>\n",
       "      <td>1.0</td>\n",
       "      <td>0.0</td>\n",
       "      <td>1.0</td>\n",
       "      <td>1.0</td>\n",
       "    </tr>\n",
       "    <tr>\n",
       "      <th>Stroke</th>\n",
       "      <td>0.0</td>\n",
       "      <td>1.0</td>\n",
       "      <td>0.0</td>\n",
       "      <td>0.0</td>\n",
       "      <td>0.0</td>\n",
       "    </tr>\n",
       "    <tr>\n",
       "      <th>HeartDiseaseorAttack</th>\n",
       "      <td>0.0</td>\n",
       "      <td>0.0</td>\n",
       "      <td>0.0</td>\n",
       "      <td>0.0</td>\n",
       "      <td>0.0</td>\n",
       "    </tr>\n",
       "    <tr>\n",
       "      <th>PhysActivity</th>\n",
       "      <td>1.0</td>\n",
       "      <td>0.0</td>\n",
       "      <td>1.0</td>\n",
       "      <td>1.0</td>\n",
       "      <td>1.0</td>\n",
       "    </tr>\n",
       "    <tr>\n",
       "      <th>Fruits</th>\n",
       "      <td>0.0</td>\n",
       "      <td>1.0</td>\n",
       "      <td>1.0</td>\n",
       "      <td>1.0</td>\n",
       "      <td>1.0</td>\n",
       "    </tr>\n",
       "    <tr>\n",
       "      <th>Veggies</th>\n",
       "      <td>1.0</td>\n",
       "      <td>0.0</td>\n",
       "      <td>1.0</td>\n",
       "      <td>1.0</td>\n",
       "      <td>1.0</td>\n",
       "    </tr>\n",
       "    <tr>\n",
       "      <th>HvyAlcoholConsump</th>\n",
       "      <td>0.0</td>\n",
       "      <td>0.0</td>\n",
       "      <td>0.0</td>\n",
       "      <td>0.0</td>\n",
       "      <td>0.0</td>\n",
       "    </tr>\n",
       "    <tr>\n",
       "      <th>AnyHealthcare</th>\n",
       "      <td>1.0</td>\n",
       "      <td>1.0</td>\n",
       "      <td>1.0</td>\n",
       "      <td>1.0</td>\n",
       "      <td>1.0</td>\n",
       "    </tr>\n",
       "    <tr>\n",
       "      <th>NoDocbcCost</th>\n",
       "      <td>0.0</td>\n",
       "      <td>0.0</td>\n",
       "      <td>0.0</td>\n",
       "      <td>0.0</td>\n",
       "      <td>0.0</td>\n",
       "    </tr>\n",
       "    <tr>\n",
       "      <th>GenHlth</th>\n",
       "      <td>3.0</td>\n",
       "      <td>3.0</td>\n",
       "      <td>1.0</td>\n",
       "      <td>3.0</td>\n",
       "      <td>2.0</td>\n",
       "    </tr>\n",
       "    <tr>\n",
       "      <th>MentHlth</th>\n",
       "      <td>5.0</td>\n",
       "      <td>0.0</td>\n",
       "      <td>0.0</td>\n",
       "      <td>0.0</td>\n",
       "      <td>0.0</td>\n",
       "    </tr>\n",
       "    <tr>\n",
       "      <th>PhysHlth</th>\n",
       "      <td>30.0</td>\n",
       "      <td>0.0</td>\n",
       "      <td>10.0</td>\n",
       "      <td>3.0</td>\n",
       "      <td>0.0</td>\n",
       "    </tr>\n",
       "    <tr>\n",
       "      <th>DiffWalk</th>\n",
       "      <td>0.0</td>\n",
       "      <td>0.0</td>\n",
       "      <td>0.0</td>\n",
       "      <td>0.0</td>\n",
       "      <td>0.0</td>\n",
       "    </tr>\n",
       "    <tr>\n",
       "      <th>Sex</th>\n",
       "      <td>1.0</td>\n",
       "      <td>1.0</td>\n",
       "      <td>1.0</td>\n",
       "      <td>1.0</td>\n",
       "      <td>0.0</td>\n",
       "    </tr>\n",
       "    <tr>\n",
       "      <th>Age</th>\n",
       "      <td>4.0</td>\n",
       "      <td>12.0</td>\n",
       "      <td>13.0</td>\n",
       "      <td>11.0</td>\n",
       "      <td>8.0</td>\n",
       "    </tr>\n",
       "    <tr>\n",
       "      <th>Education</th>\n",
       "      <td>6.0</td>\n",
       "      <td>6.0</td>\n",
       "      <td>6.0</td>\n",
       "      <td>6.0</td>\n",
       "      <td>5.0</td>\n",
       "    </tr>\n",
       "    <tr>\n",
       "      <th>Income</th>\n",
       "      <td>8.0</td>\n",
       "      <td>8.0</td>\n",
       "      <td>8.0</td>\n",
       "      <td>8.0</td>\n",
       "      <td>8.0</td>\n",
       "    </tr>\n",
       "  </tbody>\n",
       "</table>\n",
       "</div>"
      ],
      "text/plain": [
       "                         0     1     2     3     4\n",
       "Diabetes_binary        0.0   0.0   0.0   0.0   0.0\n",
       "HighBP                 1.0   1.0   0.0   1.0   0.0\n",
       "HighChol               0.0   1.0   0.0   1.0   0.0\n",
       "CholCheck              1.0   1.0   1.0   1.0   1.0\n",
       "BMI                   26.0  26.0  26.0  28.0  29.0\n",
       "Smoker                 0.0   1.0   0.0   1.0   1.0\n",
       "Stroke                 0.0   1.0   0.0   0.0   0.0\n",
       "HeartDiseaseorAttack   0.0   0.0   0.0   0.0   0.0\n",
       "PhysActivity           1.0   0.0   1.0   1.0   1.0\n",
       "Fruits                 0.0   1.0   1.0   1.0   1.0\n",
       "Veggies                1.0   0.0   1.0   1.0   1.0\n",
       "HvyAlcoholConsump      0.0   0.0   0.0   0.0   0.0\n",
       "AnyHealthcare          1.0   1.0   1.0   1.0   1.0\n",
       "NoDocbcCost            0.0   0.0   0.0   0.0   0.0\n",
       "GenHlth                3.0   3.0   1.0   3.0   2.0\n",
       "MentHlth               5.0   0.0   0.0   0.0   0.0\n",
       "PhysHlth              30.0   0.0  10.0   3.0   0.0\n",
       "DiffWalk               0.0   0.0   0.0   0.0   0.0\n",
       "Sex                    1.0   1.0   1.0   1.0   0.0\n",
       "Age                    4.0  12.0  13.0  11.0   8.0\n",
       "Education              6.0   6.0   6.0   6.0   5.0\n",
       "Income                 8.0   8.0   8.0   8.0   8.0"
      ]
     },
     "execution_count": 5,
     "metadata": {},
     "output_type": "execute_result"
    }
   ],
   "source": [
    "#call in the head method on the dataset to print the first several rows and check the state of the data\n",
    "brfss2015_dataset.head().T"
   ]
  },
  {
   "cell_type": "code",
   "execution_count": 6,
   "id": "41d15298",
   "metadata": {},
   "outputs": [
    {
     "data": {
      "text/plain": [
       "Index(['Diabetes_binary', 'HighBP', 'HighChol', 'CholCheck', 'BMI', 'Smoker',\n",
       "       'Stroke', 'HeartDiseaseorAttack', 'PhysActivity', 'Fruits', 'Veggies',\n",
       "       'HvyAlcoholConsump', 'AnyHealthcare', 'NoDocbcCost', 'GenHlth',\n",
       "       'MentHlth', 'PhysHlth', 'DiffWalk', 'Sex', 'Age', 'Education',\n",
       "       'Income'],\n",
       "      dtype='object')"
      ]
     },
     "execution_count": 6,
     "metadata": {},
     "output_type": "execute_result"
    }
   ],
   "source": [
    "# print out the columns of the datatset\n",
    "brfss2015_dataset.columns"
   ]
  },
  {
   "cell_type": "markdown",
   "id": "210f8fa9",
   "metadata": {},
   "source": [
    "This concisely showed the names of the columns in the dataset and easy indexing if needed"
   ]
  },
  {
   "cell_type": "code",
   "execution_count": 7,
   "id": "c18b24c9",
   "metadata": {},
   "outputs": [
    {
     "data": {
      "text/plain": [
       "Diabetes_binary         float64\n",
       "HighBP                  float64\n",
       "HighChol                float64\n",
       "CholCheck               float64\n",
       "BMI                     float64\n",
       "Smoker                  float64\n",
       "Stroke                  float64\n",
       "HeartDiseaseorAttack    float64\n",
       "PhysActivity            float64\n",
       "Fruits                  float64\n",
       "Veggies                 float64\n",
       "HvyAlcoholConsump       float64\n",
       "AnyHealthcare           float64\n",
       "NoDocbcCost             float64\n",
       "GenHlth                 float64\n",
       "MentHlth                float64\n",
       "PhysHlth                float64\n",
       "DiffWalk                float64\n",
       "Sex                     float64\n",
       "Age                     float64\n",
       "Education               float64\n",
       "Income                  float64\n",
       "dtype: object"
      ]
     },
     "execution_count": 7,
     "metadata": {},
     "output_type": "execute_result"
    }
   ],
   "source": [
    "#find what datatypes the data has\n",
    "brfss2015_dataset.dtypes"
   ]
  },
  {
   "cell_type": "markdown",
   "id": "cbe677e2",
   "metadata": {},
   "source": [
    "Confirmed the datatypes present in the dataset"
   ]
  },
  {
   "cell_type": "code",
   "execution_count": 8,
   "id": "8abf779e",
   "metadata": {},
   "outputs": [
    {
     "data": {
      "text/html": [
       "<div>\n",
       "<style scoped>\n",
       "    .dataframe tbody tr th:only-of-type {\n",
       "        vertical-align: middle;\n",
       "    }\n",
       "\n",
       "    .dataframe tbody tr th {\n",
       "        vertical-align: top;\n",
       "    }\n",
       "\n",
       "    .dataframe thead th {\n",
       "        text-align: right;\n",
       "    }\n",
       "</style>\n",
       "<table border=\"1\" class=\"dataframe\">\n",
       "  <thead>\n",
       "    <tr style=\"text-align: right;\">\n",
       "      <th></th>\n",
       "      <th>count</th>\n",
       "      <th>mean</th>\n",
       "      <th>std</th>\n",
       "      <th>min</th>\n",
       "      <th>25%</th>\n",
       "      <th>50%</th>\n",
       "      <th>75%</th>\n",
       "      <th>max</th>\n",
       "    </tr>\n",
       "  </thead>\n",
       "  <tbody>\n",
       "    <tr>\n",
       "      <th>Diabetes_binary</th>\n",
       "      <td>70692.0</td>\n",
       "      <td>0.500000</td>\n",
       "      <td>0.500004</td>\n",
       "      <td>0.0</td>\n",
       "      <td>0.0</td>\n",
       "      <td>0.5</td>\n",
       "      <td>1.0</td>\n",
       "      <td>1.0</td>\n",
       "    </tr>\n",
       "    <tr>\n",
       "      <th>HighBP</th>\n",
       "      <td>70692.0</td>\n",
       "      <td>0.563458</td>\n",
       "      <td>0.495960</td>\n",
       "      <td>0.0</td>\n",
       "      <td>0.0</td>\n",
       "      <td>1.0</td>\n",
       "      <td>1.0</td>\n",
       "      <td>1.0</td>\n",
       "    </tr>\n",
       "    <tr>\n",
       "      <th>HighChol</th>\n",
       "      <td>70692.0</td>\n",
       "      <td>0.525703</td>\n",
       "      <td>0.499342</td>\n",
       "      <td>0.0</td>\n",
       "      <td>0.0</td>\n",
       "      <td>1.0</td>\n",
       "      <td>1.0</td>\n",
       "      <td>1.0</td>\n",
       "    </tr>\n",
       "    <tr>\n",
       "      <th>CholCheck</th>\n",
       "      <td>70692.0</td>\n",
       "      <td>0.975259</td>\n",
       "      <td>0.155336</td>\n",
       "      <td>0.0</td>\n",
       "      <td>1.0</td>\n",
       "      <td>1.0</td>\n",
       "      <td>1.0</td>\n",
       "      <td>1.0</td>\n",
       "    </tr>\n",
       "    <tr>\n",
       "      <th>BMI</th>\n",
       "      <td>70692.0</td>\n",
       "      <td>29.856985</td>\n",
       "      <td>7.113954</td>\n",
       "      <td>12.0</td>\n",
       "      <td>25.0</td>\n",
       "      <td>29.0</td>\n",
       "      <td>33.0</td>\n",
       "      <td>98.0</td>\n",
       "    </tr>\n",
       "    <tr>\n",
       "      <th>Smoker</th>\n",
       "      <td>70692.0</td>\n",
       "      <td>0.475273</td>\n",
       "      <td>0.499392</td>\n",
       "      <td>0.0</td>\n",
       "      <td>0.0</td>\n",
       "      <td>0.0</td>\n",
       "      <td>1.0</td>\n",
       "      <td>1.0</td>\n",
       "    </tr>\n",
       "    <tr>\n",
       "      <th>Stroke</th>\n",
       "      <td>70692.0</td>\n",
       "      <td>0.062171</td>\n",
       "      <td>0.241468</td>\n",
       "      <td>0.0</td>\n",
       "      <td>0.0</td>\n",
       "      <td>0.0</td>\n",
       "      <td>0.0</td>\n",
       "      <td>1.0</td>\n",
       "    </tr>\n",
       "    <tr>\n",
       "      <th>HeartDiseaseorAttack</th>\n",
       "      <td>70692.0</td>\n",
       "      <td>0.147810</td>\n",
       "      <td>0.354914</td>\n",
       "      <td>0.0</td>\n",
       "      <td>0.0</td>\n",
       "      <td>0.0</td>\n",
       "      <td>0.0</td>\n",
       "      <td>1.0</td>\n",
       "    </tr>\n",
       "    <tr>\n",
       "      <th>PhysActivity</th>\n",
       "      <td>70692.0</td>\n",
       "      <td>0.703036</td>\n",
       "      <td>0.456924</td>\n",
       "      <td>0.0</td>\n",
       "      <td>0.0</td>\n",
       "      <td>1.0</td>\n",
       "      <td>1.0</td>\n",
       "      <td>1.0</td>\n",
       "    </tr>\n",
       "    <tr>\n",
       "      <th>Fruits</th>\n",
       "      <td>70692.0</td>\n",
       "      <td>0.611795</td>\n",
       "      <td>0.487345</td>\n",
       "      <td>0.0</td>\n",
       "      <td>0.0</td>\n",
       "      <td>1.0</td>\n",
       "      <td>1.0</td>\n",
       "      <td>1.0</td>\n",
       "    </tr>\n",
       "    <tr>\n",
       "      <th>Veggies</th>\n",
       "      <td>70692.0</td>\n",
       "      <td>0.788774</td>\n",
       "      <td>0.408181</td>\n",
       "      <td>0.0</td>\n",
       "      <td>1.0</td>\n",
       "      <td>1.0</td>\n",
       "      <td>1.0</td>\n",
       "      <td>1.0</td>\n",
       "    </tr>\n",
       "    <tr>\n",
       "      <th>HvyAlcoholConsump</th>\n",
       "      <td>70692.0</td>\n",
       "      <td>0.042721</td>\n",
       "      <td>0.202228</td>\n",
       "      <td>0.0</td>\n",
       "      <td>0.0</td>\n",
       "      <td>0.0</td>\n",
       "      <td>0.0</td>\n",
       "      <td>1.0</td>\n",
       "    </tr>\n",
       "    <tr>\n",
       "      <th>AnyHealthcare</th>\n",
       "      <td>70692.0</td>\n",
       "      <td>0.954960</td>\n",
       "      <td>0.207394</td>\n",
       "      <td>0.0</td>\n",
       "      <td>1.0</td>\n",
       "      <td>1.0</td>\n",
       "      <td>1.0</td>\n",
       "      <td>1.0</td>\n",
       "    </tr>\n",
       "    <tr>\n",
       "      <th>NoDocbcCost</th>\n",
       "      <td>70692.0</td>\n",
       "      <td>0.093914</td>\n",
       "      <td>0.291712</td>\n",
       "      <td>0.0</td>\n",
       "      <td>0.0</td>\n",
       "      <td>0.0</td>\n",
       "      <td>0.0</td>\n",
       "      <td>1.0</td>\n",
       "    </tr>\n",
       "    <tr>\n",
       "      <th>GenHlth</th>\n",
       "      <td>70692.0</td>\n",
       "      <td>2.837082</td>\n",
       "      <td>1.113565</td>\n",
       "      <td>1.0</td>\n",
       "      <td>2.0</td>\n",
       "      <td>3.0</td>\n",
       "      <td>4.0</td>\n",
       "      <td>5.0</td>\n",
       "    </tr>\n",
       "    <tr>\n",
       "      <th>MentHlth</th>\n",
       "      <td>70692.0</td>\n",
       "      <td>3.752037</td>\n",
       "      <td>8.155627</td>\n",
       "      <td>0.0</td>\n",
       "      <td>0.0</td>\n",
       "      <td>0.0</td>\n",
       "      <td>2.0</td>\n",
       "      <td>30.0</td>\n",
       "    </tr>\n",
       "    <tr>\n",
       "      <th>PhysHlth</th>\n",
       "      <td>70692.0</td>\n",
       "      <td>5.810417</td>\n",
       "      <td>10.062261</td>\n",
       "      <td>0.0</td>\n",
       "      <td>0.0</td>\n",
       "      <td>0.0</td>\n",
       "      <td>6.0</td>\n",
       "      <td>30.0</td>\n",
       "    </tr>\n",
       "    <tr>\n",
       "      <th>DiffWalk</th>\n",
       "      <td>70692.0</td>\n",
       "      <td>0.252730</td>\n",
       "      <td>0.434581</td>\n",
       "      <td>0.0</td>\n",
       "      <td>0.0</td>\n",
       "      <td>0.0</td>\n",
       "      <td>1.0</td>\n",
       "      <td>1.0</td>\n",
       "    </tr>\n",
       "    <tr>\n",
       "      <th>Sex</th>\n",
       "      <td>70692.0</td>\n",
       "      <td>0.456997</td>\n",
       "      <td>0.498151</td>\n",
       "      <td>0.0</td>\n",
       "      <td>0.0</td>\n",
       "      <td>0.0</td>\n",
       "      <td>1.0</td>\n",
       "      <td>1.0</td>\n",
       "    </tr>\n",
       "    <tr>\n",
       "      <th>Age</th>\n",
       "      <td>70692.0</td>\n",
       "      <td>8.584055</td>\n",
       "      <td>2.852153</td>\n",
       "      <td>1.0</td>\n",
       "      <td>7.0</td>\n",
       "      <td>9.0</td>\n",
       "      <td>11.0</td>\n",
       "      <td>13.0</td>\n",
       "    </tr>\n",
       "    <tr>\n",
       "      <th>Education</th>\n",
       "      <td>70692.0</td>\n",
       "      <td>4.920953</td>\n",
       "      <td>1.029081</td>\n",
       "      <td>1.0</td>\n",
       "      <td>4.0</td>\n",
       "      <td>5.0</td>\n",
       "      <td>6.0</td>\n",
       "      <td>6.0</td>\n",
       "    </tr>\n",
       "    <tr>\n",
       "      <th>Income</th>\n",
       "      <td>70692.0</td>\n",
       "      <td>5.698311</td>\n",
       "      <td>2.175196</td>\n",
       "      <td>1.0</td>\n",
       "      <td>4.0</td>\n",
       "      <td>6.0</td>\n",
       "      <td>8.0</td>\n",
       "      <td>8.0</td>\n",
       "    </tr>\n",
       "  </tbody>\n",
       "</table>\n",
       "</div>"
      ],
      "text/plain": [
       "                        count       mean        std   min   25%   50%   75%  \\\n",
       "Diabetes_binary       70692.0   0.500000   0.500004   0.0   0.0   0.5   1.0   \n",
       "HighBP                70692.0   0.563458   0.495960   0.0   0.0   1.0   1.0   \n",
       "HighChol              70692.0   0.525703   0.499342   0.0   0.0   1.0   1.0   \n",
       "CholCheck             70692.0   0.975259   0.155336   0.0   1.0   1.0   1.0   \n",
       "BMI                   70692.0  29.856985   7.113954  12.0  25.0  29.0  33.0   \n",
       "Smoker                70692.0   0.475273   0.499392   0.0   0.0   0.0   1.0   \n",
       "Stroke                70692.0   0.062171   0.241468   0.0   0.0   0.0   0.0   \n",
       "HeartDiseaseorAttack  70692.0   0.147810   0.354914   0.0   0.0   0.0   0.0   \n",
       "PhysActivity          70692.0   0.703036   0.456924   0.0   0.0   1.0   1.0   \n",
       "Fruits                70692.0   0.611795   0.487345   0.0   0.0   1.0   1.0   \n",
       "Veggies               70692.0   0.788774   0.408181   0.0   1.0   1.0   1.0   \n",
       "HvyAlcoholConsump     70692.0   0.042721   0.202228   0.0   0.0   0.0   0.0   \n",
       "AnyHealthcare         70692.0   0.954960   0.207394   0.0   1.0   1.0   1.0   \n",
       "NoDocbcCost           70692.0   0.093914   0.291712   0.0   0.0   0.0   0.0   \n",
       "GenHlth               70692.0   2.837082   1.113565   1.0   2.0   3.0   4.0   \n",
       "MentHlth              70692.0   3.752037   8.155627   0.0   0.0   0.0   2.0   \n",
       "PhysHlth              70692.0   5.810417  10.062261   0.0   0.0   0.0   6.0   \n",
       "DiffWalk              70692.0   0.252730   0.434581   0.0   0.0   0.0   1.0   \n",
       "Sex                   70692.0   0.456997   0.498151   0.0   0.0   0.0   1.0   \n",
       "Age                   70692.0   8.584055   2.852153   1.0   7.0   9.0  11.0   \n",
       "Education             70692.0   4.920953   1.029081   1.0   4.0   5.0   6.0   \n",
       "Income                70692.0   5.698311   2.175196   1.0   4.0   6.0   8.0   \n",
       "\n",
       "                       max  \n",
       "Diabetes_binary        1.0  \n",
       "HighBP                 1.0  \n",
       "HighChol               1.0  \n",
       "CholCheck              1.0  \n",
       "BMI                   98.0  \n",
       "Smoker                 1.0  \n",
       "Stroke                 1.0  \n",
       "HeartDiseaseorAttack   1.0  \n",
       "PhysActivity           1.0  \n",
       "Fruits                 1.0  \n",
       "Veggies                1.0  \n",
       "HvyAlcoholConsump      1.0  \n",
       "AnyHealthcare          1.0  \n",
       "NoDocbcCost            1.0  \n",
       "GenHlth                5.0  \n",
       "MentHlth              30.0  \n",
       "PhysHlth              30.0  \n",
       "DiffWalk               1.0  \n",
       "Sex                    1.0  \n",
       "Age                   13.0  \n",
       "Education              6.0  \n",
       "Income                 8.0  "
      ]
     },
     "execution_count": 8,
     "metadata": {},
     "output_type": "execute_result"
    }
   ],
   "source": [
    "#calling the describe method gives you a descriptive statistics summary of the data; \n",
    "#easier to view since less columns for the stats data therby called in transpose method\n",
    "brfss2015_dataset.describe().T"
   ]
  },
  {
   "cell_type": "markdown",
   "id": "10728d1f",
   "metadata": {},
   "source": [
    "These gives the a descriptive statistical summary of the dataset"
   ]
  },
  {
   "cell_type": "code",
   "execution_count": 9,
   "id": "322566b5",
   "metadata": {},
   "outputs": [
    {
     "data": {
      "text/plain": [
       "False"
      ]
     },
     "execution_count": 9,
     "metadata": {},
     "output_type": "execute_result"
    }
   ],
   "source": [
    "brfss2015_dataset.isnull().values.any()"
   ]
  },
  {
   "cell_type": "markdown",
   "id": "01855b92",
   "metadata": {},
   "source": [
    "shows there are no missing values in the dataset"
   ]
  },
  {
   "cell_type": "code",
   "execution_count": 10,
   "id": "7ce89c42",
   "metadata": {},
   "outputs": [
    {
     "data": {
      "text/html": [
       "<div>\n",
       "<style scoped>\n",
       "    .dataframe tbody tr th:only-of-type {\n",
       "        vertical-align: middle;\n",
       "    }\n",
       "\n",
       "    .dataframe tbody tr th {\n",
       "        vertical-align: top;\n",
       "    }\n",
       "\n",
       "    .dataframe thead th {\n",
       "        text-align: right;\n",
       "    }\n",
       "</style>\n",
       "<table border=\"1\" class=\"dataframe\">\n",
       "  <thead>\n",
       "    <tr style=\"text-align: right;\">\n",
       "      <th></th>\n",
       "      <th>count</th>\n",
       "      <th>%</th>\n",
       "    </tr>\n",
       "  </thead>\n",
       "  <tbody>\n",
       "    <tr>\n",
       "      <th>Diabetes_binary</th>\n",
       "      <td>0</td>\n",
       "      <td>0.0</td>\n",
       "    </tr>\n",
       "    <tr>\n",
       "      <th>HighBP</th>\n",
       "      <td>0</td>\n",
       "      <td>0.0</td>\n",
       "    </tr>\n",
       "    <tr>\n",
       "      <th>HighChol</th>\n",
       "      <td>0</td>\n",
       "      <td>0.0</td>\n",
       "    </tr>\n",
       "    <tr>\n",
       "      <th>CholCheck</th>\n",
       "      <td>0</td>\n",
       "      <td>0.0</td>\n",
       "    </tr>\n",
       "    <tr>\n",
       "      <th>BMI</th>\n",
       "      <td>0</td>\n",
       "      <td>0.0</td>\n",
       "    </tr>\n",
       "    <tr>\n",
       "      <th>Smoker</th>\n",
       "      <td>0</td>\n",
       "      <td>0.0</td>\n",
       "    </tr>\n",
       "    <tr>\n",
       "      <th>Stroke</th>\n",
       "      <td>0</td>\n",
       "      <td>0.0</td>\n",
       "    </tr>\n",
       "    <tr>\n",
       "      <th>HeartDiseaseorAttack</th>\n",
       "      <td>0</td>\n",
       "      <td>0.0</td>\n",
       "    </tr>\n",
       "    <tr>\n",
       "      <th>PhysActivity</th>\n",
       "      <td>0</td>\n",
       "      <td>0.0</td>\n",
       "    </tr>\n",
       "    <tr>\n",
       "      <th>Fruits</th>\n",
       "      <td>0</td>\n",
       "      <td>0.0</td>\n",
       "    </tr>\n",
       "    <tr>\n",
       "      <th>Veggies</th>\n",
       "      <td>0</td>\n",
       "      <td>0.0</td>\n",
       "    </tr>\n",
       "    <tr>\n",
       "      <th>HvyAlcoholConsump</th>\n",
       "      <td>0</td>\n",
       "      <td>0.0</td>\n",
       "    </tr>\n",
       "    <tr>\n",
       "      <th>AnyHealthcare</th>\n",
       "      <td>0</td>\n",
       "      <td>0.0</td>\n",
       "    </tr>\n",
       "    <tr>\n",
       "      <th>NoDocbcCost</th>\n",
       "      <td>0</td>\n",
       "      <td>0.0</td>\n",
       "    </tr>\n",
       "    <tr>\n",
       "      <th>GenHlth</th>\n",
       "      <td>0</td>\n",
       "      <td>0.0</td>\n",
       "    </tr>\n",
       "    <tr>\n",
       "      <th>MentHlth</th>\n",
       "      <td>0</td>\n",
       "      <td>0.0</td>\n",
       "    </tr>\n",
       "    <tr>\n",
       "      <th>PhysHlth</th>\n",
       "      <td>0</td>\n",
       "      <td>0.0</td>\n",
       "    </tr>\n",
       "    <tr>\n",
       "      <th>DiffWalk</th>\n",
       "      <td>0</td>\n",
       "      <td>0.0</td>\n",
       "    </tr>\n",
       "    <tr>\n",
       "      <th>Sex</th>\n",
       "      <td>0</td>\n",
       "      <td>0.0</td>\n",
       "    </tr>\n",
       "    <tr>\n",
       "      <th>Age</th>\n",
       "      <td>0</td>\n",
       "      <td>0.0</td>\n",
       "    </tr>\n",
       "    <tr>\n",
       "      <th>Education</th>\n",
       "      <td>0</td>\n",
       "      <td>0.0</td>\n",
       "    </tr>\n",
       "    <tr>\n",
       "      <th>Income</th>\n",
       "      <td>0</td>\n",
       "      <td>0.0</td>\n",
       "    </tr>\n",
       "  </tbody>\n",
       "</table>\n",
       "</div>"
      ],
      "text/plain": [
       "                      count    %\n",
       "Diabetes_binary           0  0.0\n",
       "HighBP                    0  0.0\n",
       "HighChol                  0  0.0\n",
       "CholCheck                 0  0.0\n",
       "BMI                       0  0.0\n",
       "Smoker                    0  0.0\n",
       "Stroke                    0  0.0\n",
       "HeartDiseaseorAttack      0  0.0\n",
       "PhysActivity              0  0.0\n",
       "Fruits                    0  0.0\n",
       "Veggies                   0  0.0\n",
       "HvyAlcoholConsump         0  0.0\n",
       "AnyHealthcare             0  0.0\n",
       "NoDocbcCost               0  0.0\n",
       "GenHlth                   0  0.0\n",
       "MentHlth                  0  0.0\n",
       "PhysHlth                  0  0.0\n",
       "DiffWalk                  0  0.0\n",
       "Sex                       0  0.0\n",
       "Age                       0  0.0\n",
       "Education                 0  0.0\n",
       "Income                    0  0.0"
      ]
     },
     "execution_count": 10,
     "metadata": {},
     "output_type": "execute_result"
    }
   ],
   "source": [
    "#fin out the number of missing values using .isnull() in each of the column\n",
    "#find out the percentages using mean \n",
    "#present a table with column names of count and percentages\n",
    "missing =pd.concat([brfss2015_dataset.isnull().sum(), 100* brfss2015_dataset.isnull().mean()], axis=1)\n",
    "missing.columns=['count','%']\n",
    "missing.sort_values(by=['count', '%'])"
   ]
  },
  {
   "cell_type": "markdown",
   "id": "136494b9",
   "metadata": {},
   "source": [
    "There is no missing data for any of the columns"
   ]
  },
  {
   "cell_type": "code",
   "execution_count": 10,
   "id": "ab9b3cca",
   "metadata": {},
   "outputs": [
    {
     "data": {
      "text/plain": [
       "Diabetes_binary          2\n",
       "HighBP                   2\n",
       "HighChol                 2\n",
       "CholCheck                2\n",
       "BMI                     80\n",
       "Smoker                   2\n",
       "Stroke                   2\n",
       "HeartDiseaseorAttack     2\n",
       "PhysActivity             2\n",
       "Fruits                   2\n",
       "Veggies                  2\n",
       "HvyAlcoholConsump        2\n",
       "AnyHealthcare            2\n",
       "NoDocbcCost              2\n",
       "GenHlth                  5\n",
       "MentHlth                31\n",
       "PhysHlth                31\n",
       "DiffWalk                 2\n",
       "Sex                      2\n",
       "Age                     13\n",
       "Education                6\n",
       "Income                   8\n",
       "dtype: int64"
      ]
     },
     "execution_count": 10,
     "metadata": {},
     "output_type": "execute_result"
    }
   ],
   "source": [
    "#call in .nunique() method to return the number of uniques values for each column of the dataset\n",
    "brfss2015_dataset.nunique()"
   ]
  },
  {
   "cell_type": "markdown",
   "id": "211709d1",
   "metadata": {},
   "source": [
    "Shows that all elements in the dataset have no NaN or missing values; all unique"
   ]
  },
  {
   "cell_type": "code",
   "execution_count": 15,
   "id": "78fa8087",
   "metadata": {},
   "outputs": [
    {
     "data": {
      "text/plain": [
       "Sex\n",
       "0.0    38386\n",
       "1.0    32306\n",
       "dtype: int64"
      ]
     },
     "execution_count": 15,
     "metadata": {},
     "output_type": "execute_result"
    }
   ],
   "source": [
    "brfss2015_dataset.value_counts(subset='Sex')"
   ]
  },
  {
   "cell_type": "markdown",
   "id": "2e2cefdb",
   "metadata": {},
   "source": [
    "The data above shows there is about male(45.7%) and female(54.3%) respondents to the survey"
   ]
  },
  {
   "cell_type": "code",
   "execution_count": 15,
   "id": "4f161e62",
   "metadata": {},
   "outputs": [
    {
     "data": {
      "image/png": "[encoded data removed]",
      "text/plain": [
       "<Figure size 1500x1000 with 25 Axes>"
      ]
     },
     "metadata": {},
     "output_type": "display_data"
    }
   ],
   "source": [
    "#Call brfss2015_dataset `hist` method to plot histograms of each of the numeric features\n",
    "#Try passing it an argument figsize=(15,10)\n",
    "#Try calling plt.subplots_adjust() with an argument hspace=0.5 to adjust the spacing\n",
    "#It's important you create legible and easy-to-read plots\n",
    "brfss2015_dataset.hist(figsize=(15,10))\n",
    "plt.subplots_adjust(hspace=0.5);"
   ]
  },
  {
   "cell_type": "code",
   "execution_count": 18,
   "id": "0b1bbc3d",
   "metadata": {},
   "outputs": [
    {
     "data": {
      "text/plain": [
       "0        False\n",
       "1        False\n",
       "2        False\n",
       "3        False\n",
       "4        False\n",
       "         ...  \n",
       "70687    False\n",
       "70688    False\n",
       "70689    False\n",
       "70690    False\n",
       "70691    False\n",
       "Length: 70692, dtype: bool"
      ]
     },
     "execution_count": 18,
     "metadata": {},
     "output_type": "execute_result"
    }
   ],
   "source": [
    "brfss2015_dataset.duplicated()"
   ]
  },
  {
   "cell_type": "markdown",
   "id": "969f26ae",
   "metadata": {},
   "source": [
    "No duplicates found in the dataset"
   ]
  },
  {
   "cell_type": "code",
   "execution_count": 4,
   "id": "d77fd8c2",
   "metadata": {},
   "outputs": [
    {
     "data": {
      "text/html": [
       "<div>\n",
       "<style scoped>\n",
       "    .dataframe tbody tr th:only-of-type {\n",
       "        vertical-align: middle;\n",
       "    }\n",
       "\n",
       "    .dataframe tbody tr th {\n",
       "        vertical-align: top;\n",
       "    }\n",
       "\n",
       "    .dataframe thead th {\n",
       "        text-align: right;\n",
       "    }\n",
       "</style>\n",
       "<table border=\"1\" class=\"dataframe\">\n",
       "  <thead>\n",
       "    <tr style=\"text-align: right;\">\n",
       "      <th></th>\n",
       "      <th>0.0</th>\n",
       "      <th>1.0</th>\n",
       "      <th>2.0</th>\n",
       "      <th>3.0</th>\n",
       "      <th>4.0</th>\n",
       "      <th>5.0</th>\n",
       "      <th>6.0</th>\n",
       "      <th>7.0</th>\n",
       "      <th>8.0</th>\n",
       "      <th>9.0</th>\n",
       "      <th>...</th>\n",
       "      <th>82.0</th>\n",
       "      <th>83.0</th>\n",
       "      <th>84.0</th>\n",
       "      <th>85.0</th>\n",
       "      <th>86.0</th>\n",
       "      <th>87.0</th>\n",
       "      <th>89.0</th>\n",
       "      <th>92.0</th>\n",
       "      <th>95.0</th>\n",
       "      <th>98.0</th>\n",
       "    </tr>\n",
       "  </thead>\n",
       "  <tbody>\n",
       "    <tr>\n",
       "      <th>Diabetes_binary</th>\n",
       "      <td>35346.0</td>\n",
       "      <td>35346.0</td>\n",
       "      <td>-</td>\n",
       "      <td>-</td>\n",
       "      <td>-</td>\n",
       "      <td>-</td>\n",
       "      <td>-</td>\n",
       "      <td>-</td>\n",
       "      <td>-</td>\n",
       "      <td>-</td>\n",
       "      <td>...</td>\n",
       "      <td>-</td>\n",
       "      <td>-</td>\n",
       "      <td>-</td>\n",
       "      <td>-</td>\n",
       "      <td>-</td>\n",
       "      <td>-</td>\n",
       "      <td>-</td>\n",
       "      <td>-</td>\n",
       "      <td>-</td>\n",
       "      <td>-</td>\n",
       "    </tr>\n",
       "    <tr>\n",
       "      <th>HighBP</th>\n",
       "      <td>30860.0</td>\n",
       "      <td>39832.0</td>\n",
       "      <td>-</td>\n",
       "      <td>-</td>\n",
       "      <td>-</td>\n",
       "      <td>-</td>\n",
       "      <td>-</td>\n",
       "      <td>-</td>\n",
       "      <td>-</td>\n",
       "      <td>-</td>\n",
       "      <td>...</td>\n",
       "      <td>-</td>\n",
       "      <td>-</td>\n",
       "      <td>-</td>\n",
       "      <td>-</td>\n",
       "      <td>-</td>\n",
       "      <td>-</td>\n",
       "      <td>-</td>\n",
       "      <td>-</td>\n",
       "      <td>-</td>\n",
       "      <td>-</td>\n",
       "    </tr>\n",
       "    <tr>\n",
       "      <th>HighChol</th>\n",
       "      <td>33529.0</td>\n",
       "      <td>37163.0</td>\n",
       "      <td>-</td>\n",
       "      <td>-</td>\n",
       "      <td>-</td>\n",
       "      <td>-</td>\n",
       "      <td>-</td>\n",
       "      <td>-</td>\n",
       "      <td>-</td>\n",
       "      <td>-</td>\n",
       "      <td>...</td>\n",
       "      <td>-</td>\n",
       "      <td>-</td>\n",
       "      <td>-</td>\n",
       "      <td>-</td>\n",
       "      <td>-</td>\n",
       "      <td>-</td>\n",
       "      <td>-</td>\n",
       "      <td>-</td>\n",
       "      <td>-</td>\n",
       "      <td>-</td>\n",
       "    </tr>\n",
       "    <tr>\n",
       "      <th>CholCheck</th>\n",
       "      <td>1749.0</td>\n",
       "      <td>68943.0</td>\n",
       "      <td>-</td>\n",
       "      <td>-</td>\n",
       "      <td>-</td>\n",
       "      <td>-</td>\n",
       "      <td>-</td>\n",
       "      <td>-</td>\n",
       "      <td>-</td>\n",
       "      <td>-</td>\n",
       "      <td>...</td>\n",
       "      <td>-</td>\n",
       "      <td>-</td>\n",
       "      <td>-</td>\n",
       "      <td>-</td>\n",
       "      <td>-</td>\n",
       "      <td>-</td>\n",
       "      <td>-</td>\n",
       "      <td>-</td>\n",
       "      <td>-</td>\n",
       "      <td>-</td>\n",
       "    </tr>\n",
       "    <tr>\n",
       "      <th>BMI</th>\n",
       "      <td>-</td>\n",
       "      <td>-</td>\n",
       "      <td>-</td>\n",
       "      <td>-</td>\n",
       "      <td>-</td>\n",
       "      <td>-</td>\n",
       "      <td>-</td>\n",
       "      <td>-</td>\n",
       "      <td>-</td>\n",
       "      <td>-</td>\n",
       "      <td>...</td>\n",
       "      <td>11.0</td>\n",
       "      <td>1.0</td>\n",
       "      <td>13.0</td>\n",
       "      <td>1.0</td>\n",
       "      <td>1.0</td>\n",
       "      <td>13.0</td>\n",
       "      <td>4.0</td>\n",
       "      <td>9.0</td>\n",
       "      <td>4.0</td>\n",
       "      <td>4.0</td>\n",
       "    </tr>\n",
       "    <tr>\n",
       "      <th>Smoker</th>\n",
       "      <td>37094.0</td>\n",
       "      <td>33598.0</td>\n",
       "      <td>-</td>\n",
       "      <td>-</td>\n",
       "      <td>-</td>\n",
       "      <td>-</td>\n",
       "      <td>-</td>\n",
       "      <td>-</td>\n",
       "      <td>-</td>\n",
       "      <td>-</td>\n",
       "      <td>...</td>\n",
       "      <td>-</td>\n",
       "      <td>-</td>\n",
       "      <td>-</td>\n",
       "      <td>-</td>\n",
       "      <td>-</td>\n",
       "      <td>-</td>\n",
       "      <td>-</td>\n",
       "      <td>-</td>\n",
       "      <td>-</td>\n",
       "      <td>-</td>\n",
       "    </tr>\n",
       "    <tr>\n",
       "      <th>Stroke</th>\n",
       "      <td>66297.0</td>\n",
       "      <td>4395.0</td>\n",
       "      <td>-</td>\n",
       "      <td>-</td>\n",
       "      <td>-</td>\n",
       "      <td>-</td>\n",
       "      <td>-</td>\n",
       "      <td>-</td>\n",
       "      <td>-</td>\n",
       "      <td>-</td>\n",
       "      <td>...</td>\n",
       "      <td>-</td>\n",
       "      <td>-</td>\n",
       "      <td>-</td>\n",
       "      <td>-</td>\n",
       "      <td>-</td>\n",
       "      <td>-</td>\n",
       "      <td>-</td>\n",
       "      <td>-</td>\n",
       "      <td>-</td>\n",
       "      <td>-</td>\n",
       "    </tr>\n",
       "    <tr>\n",
       "      <th>HeartDiseaseorAttack</th>\n",
       "      <td>60243.0</td>\n",
       "      <td>10449.0</td>\n",
       "      <td>-</td>\n",
       "      <td>-</td>\n",
       "      <td>-</td>\n",
       "      <td>-</td>\n",
       "      <td>-</td>\n",
       "      <td>-</td>\n",
       "      <td>-</td>\n",
       "      <td>-</td>\n",
       "      <td>...</td>\n",
       "      <td>-</td>\n",
       "      <td>-</td>\n",
       "      <td>-</td>\n",
       "      <td>-</td>\n",
       "      <td>-</td>\n",
       "      <td>-</td>\n",
       "      <td>-</td>\n",
       "      <td>-</td>\n",
       "      <td>-</td>\n",
       "      <td>-</td>\n",
       "    </tr>\n",
       "    <tr>\n",
       "      <th>PhysActivity</th>\n",
       "      <td>20993.0</td>\n",
       "      <td>49699.0</td>\n",
       "      <td>-</td>\n",
       "      <td>-</td>\n",
       "      <td>-</td>\n",
       "      <td>-</td>\n",
       "      <td>-</td>\n",
       "      <td>-</td>\n",
       "      <td>-</td>\n",
       "      <td>-</td>\n",
       "      <td>...</td>\n",
       "      <td>-</td>\n",
       "      <td>-</td>\n",
       "      <td>-</td>\n",
       "      <td>-</td>\n",
       "      <td>-</td>\n",
       "      <td>-</td>\n",
       "      <td>-</td>\n",
       "      <td>-</td>\n",
       "      <td>-</td>\n",
       "      <td>-</td>\n",
       "    </tr>\n",
       "    <tr>\n",
       "      <th>Fruits</th>\n",
       "      <td>27443.0</td>\n",
       "      <td>43249.0</td>\n",
       "      <td>-</td>\n",
       "      <td>-</td>\n",
       "      <td>-</td>\n",
       "      <td>-</td>\n",
       "      <td>-</td>\n",
       "      <td>-</td>\n",
       "      <td>-</td>\n",
       "      <td>-</td>\n",
       "      <td>...</td>\n",
       "      <td>-</td>\n",
       "      <td>-</td>\n",
       "      <td>-</td>\n",
       "      <td>-</td>\n",
       "      <td>-</td>\n",
       "      <td>-</td>\n",
       "      <td>-</td>\n",
       "      <td>-</td>\n",
       "      <td>-</td>\n",
       "      <td>-</td>\n",
       "    </tr>\n",
       "    <tr>\n",
       "      <th>Veggies</th>\n",
       "      <td>14932.0</td>\n",
       "      <td>55760.0</td>\n",
       "      <td>-</td>\n",
       "      <td>-</td>\n",
       "      <td>-</td>\n",
       "      <td>-</td>\n",
       "      <td>-</td>\n",
       "      <td>-</td>\n",
       "      <td>-</td>\n",
       "      <td>-</td>\n",
       "      <td>...</td>\n",
       "      <td>-</td>\n",
       "      <td>-</td>\n",
       "      <td>-</td>\n",
       "      <td>-</td>\n",
       "      <td>-</td>\n",
       "      <td>-</td>\n",
       "      <td>-</td>\n",
       "      <td>-</td>\n",
       "      <td>-</td>\n",
       "      <td>-</td>\n",
       "    </tr>\n",
       "    <tr>\n",
       "      <th>HvyAlcoholConsump</th>\n",
       "      <td>67672.0</td>\n",
       "      <td>3020.0</td>\n",
       "      <td>-</td>\n",
       "      <td>-</td>\n",
       "      <td>-</td>\n",
       "      <td>-</td>\n",
       "      <td>-</td>\n",
       "      <td>-</td>\n",
       "      <td>-</td>\n",
       "      <td>-</td>\n",
       "      <td>...</td>\n",
       "      <td>-</td>\n",
       "      <td>-</td>\n",
       "      <td>-</td>\n",
       "      <td>-</td>\n",
       "      <td>-</td>\n",
       "      <td>-</td>\n",
       "      <td>-</td>\n",
       "      <td>-</td>\n",
       "      <td>-</td>\n",
       "      <td>-</td>\n",
       "    </tr>\n",
       "    <tr>\n",
       "      <th>AnyHealthcare</th>\n",
       "      <td>3184.0</td>\n",
       "      <td>67508.0</td>\n",
       "      <td>-</td>\n",
       "      <td>-</td>\n",
       "      <td>-</td>\n",
       "      <td>-</td>\n",
       "      <td>-</td>\n",
       "      <td>-</td>\n",
       "      <td>-</td>\n",
       "      <td>-</td>\n",
       "      <td>...</td>\n",
       "      <td>-</td>\n",
       "      <td>-</td>\n",
       "      <td>-</td>\n",
       "      <td>-</td>\n",
       "      <td>-</td>\n",
       "      <td>-</td>\n",
       "      <td>-</td>\n",
       "      <td>-</td>\n",
       "      <td>-</td>\n",
       "      <td>-</td>\n",
       "    </tr>\n",
       "    <tr>\n",
       "      <th>NoDocbcCost</th>\n",
       "      <td>64053.0</td>\n",
       "      <td>6639.0</td>\n",
       "      <td>-</td>\n",
       "      <td>-</td>\n",
       "      <td>-</td>\n",
       "      <td>-</td>\n",
       "      <td>-</td>\n",
       "      <td>-</td>\n",
       "      <td>-</td>\n",
       "      <td>-</td>\n",
       "      <td>...</td>\n",
       "      <td>-</td>\n",
       "      <td>-</td>\n",
       "      <td>-</td>\n",
       "      <td>-</td>\n",
       "      <td>-</td>\n",
       "      <td>-</td>\n",
       "      <td>-</td>\n",
       "      <td>-</td>\n",
       "      <td>-</td>\n",
       "      <td>-</td>\n",
       "    </tr>\n",
       "    <tr>\n",
       "      <th>GenHlth</th>\n",
       "      <td>-</td>\n",
       "      <td>8282.0</td>\n",
       "      <td>19872.0</td>\n",
       "      <td>23427.0</td>\n",
       "      <td>13303.0</td>\n",
       "      <td>5808.0</td>\n",
       "      <td>-</td>\n",
       "      <td>-</td>\n",
       "      <td>-</td>\n",
       "      <td>-</td>\n",
       "      <td>...</td>\n",
       "      <td>-</td>\n",
       "      <td>-</td>\n",
       "      <td>-</td>\n",
       "      <td>-</td>\n",
       "      <td>-</td>\n",
       "      <td>-</td>\n",
       "      <td>-</td>\n",
       "      <td>-</td>\n",
       "      <td>-</td>\n",
       "      <td>-</td>\n",
       "    </tr>\n",
       "    <tr>\n",
       "      <th>MentHlth</th>\n",
       "      <td>48091.0</td>\n",
       "      <td>2051.0</td>\n",
       "      <td>3267.0</td>\n",
       "      <td>1967.0</td>\n",
       "      <td>981.0</td>\n",
       "      <td>2519.0</td>\n",
       "      <td>288.0</td>\n",
       "      <td>825.0</td>\n",
       "      <td>198.0</td>\n",
       "      <td>28.0</td>\n",
       "      <td>...</td>\n",
       "      <td>-</td>\n",
       "      <td>-</td>\n",
       "      <td>-</td>\n",
       "      <td>-</td>\n",
       "      <td>-</td>\n",
       "      <td>-</td>\n",
       "      <td>-</td>\n",
       "      <td>-</td>\n",
       "      <td>-</td>\n",
       "      <td>-</td>\n",
       "    </tr>\n",
       "    <tr>\n",
       "      <th>PhysHlth</th>\n",
       "      <td>39915.0</td>\n",
       "      <td>2853.0</td>\n",
       "      <td>4102.0</td>\n",
       "      <td>2438.0</td>\n",
       "      <td>1376.0</td>\n",
       "      <td>2332.0</td>\n",
       "      <td>447.0</td>\n",
       "      <td>1326.0</td>\n",
       "      <td>276.0</td>\n",
       "      <td>55.0</td>\n",
       "      <td>...</td>\n",
       "      <td>-</td>\n",
       "      <td>-</td>\n",
       "      <td>-</td>\n",
       "      <td>-</td>\n",
       "      <td>-</td>\n",
       "      <td>-</td>\n",
       "      <td>-</td>\n",
       "      <td>-</td>\n",
       "      <td>-</td>\n",
       "      <td>-</td>\n",
       "    </tr>\n",
       "    <tr>\n",
       "      <th>DiffWalk</th>\n",
       "      <td>52826.0</td>\n",
       "      <td>17866.0</td>\n",
       "      <td>-</td>\n",
       "      <td>-</td>\n",
       "      <td>-</td>\n",
       "      <td>-</td>\n",
       "      <td>-</td>\n",
       "      <td>-</td>\n",
       "      <td>-</td>\n",
       "      <td>-</td>\n",
       "      <td>...</td>\n",
       "      <td>-</td>\n",
       "      <td>-</td>\n",
       "      <td>-</td>\n",
       "      <td>-</td>\n",
       "      <td>-</td>\n",
       "      <td>-</td>\n",
       "      <td>-</td>\n",
       "      <td>-</td>\n",
       "      <td>-</td>\n",
       "      <td>-</td>\n",
       "    </tr>\n",
       "    <tr>\n",
       "      <th>Sex</th>\n",
       "      <td>38386.0</td>\n",
       "      <td>32306.0</td>\n",
       "      <td>-</td>\n",
       "      <td>-</td>\n",
       "      <td>-</td>\n",
       "      <td>-</td>\n",
       "      <td>-</td>\n",
       "      <td>-</td>\n",
       "      <td>-</td>\n",
       "      <td>-</td>\n",
       "      <td>...</td>\n",
       "      <td>-</td>\n",
       "      <td>-</td>\n",
       "      <td>-</td>\n",
       "      <td>-</td>\n",
       "      <td>-</td>\n",
       "      <td>-</td>\n",
       "      <td>-</td>\n",
       "      <td>-</td>\n",
       "      <td>-</td>\n",
       "      <td>-</td>\n",
       "    </tr>\n",
       "    <tr>\n",
       "      <th>Age</th>\n",
       "      <td>-</td>\n",
       "      <td>979.0</td>\n",
       "      <td>1396.0</td>\n",
       "      <td>2049.0</td>\n",
       "      <td>2793.0</td>\n",
       "      <td>3520.0</td>\n",
       "      <td>4648.0</td>\n",
       "      <td>6872.0</td>\n",
       "      <td>8603.0</td>\n",
       "      <td>10112.0</td>\n",
       "      <td>...</td>\n",
       "      <td>-</td>\n",
       "      <td>-</td>\n",
       "      <td>-</td>\n",
       "      <td>-</td>\n",
       "      <td>-</td>\n",
       "      <td>-</td>\n",
       "      <td>-</td>\n",
       "      <td>-</td>\n",
       "      <td>-</td>\n",
       "      <td>-</td>\n",
       "    </tr>\n",
       "    <tr>\n",
       "      <th>Education</th>\n",
       "      <td>-</td>\n",
       "      <td>75.0</td>\n",
       "      <td>1647.0</td>\n",
       "      <td>3447.0</td>\n",
       "      <td>19473.0</td>\n",
       "      <td>20030.0</td>\n",
       "      <td>26020.0</td>\n",
       "      <td>-</td>\n",
       "      <td>-</td>\n",
       "      <td>-</td>\n",
       "      <td>...</td>\n",
       "      <td>-</td>\n",
       "      <td>-</td>\n",
       "      <td>-</td>\n",
       "      <td>-</td>\n",
       "      <td>-</td>\n",
       "      <td>-</td>\n",
       "      <td>-</td>\n",
       "      <td>-</td>\n",
       "      <td>-</td>\n",
       "      <td>-</td>\n",
       "    </tr>\n",
       "    <tr>\n",
       "      <th>Income</th>\n",
       "      <td>-</td>\n",
       "      <td>3611.0</td>\n",
       "      <td>4498.0</td>\n",
       "      <td>5557.0</td>\n",
       "      <td>6658.0</td>\n",
       "      <td>8010.0</td>\n",
       "      <td>10287.0</td>\n",
       "      <td>11425.0</td>\n",
       "      <td>20646.0</td>\n",
       "      <td>-</td>\n",
       "      <td>...</td>\n",
       "      <td>-</td>\n",
       "      <td>-</td>\n",
       "      <td>-</td>\n",
       "      <td>-</td>\n",
       "      <td>-</td>\n",
       "      <td>-</td>\n",
       "      <td>-</td>\n",
       "      <td>-</td>\n",
       "      <td>-</td>\n",
       "      <td>-</td>\n",
       "    </tr>\n",
       "  </tbody>\n",
       "</table>\n",
       "<p>22 rows × 92 columns</p>\n",
       "</div>"
      ],
      "text/plain": [
       "                         0.0      1.0      2.0      3.0      4.0      5.0   \\\n",
       "Diabetes_binary       35346.0  35346.0        -        -        -        -   \n",
       "HighBP                30860.0  39832.0        -        -        -        -   \n",
       "HighChol              33529.0  37163.0        -        -        -        -   \n",
       "CholCheck              1749.0  68943.0        -        -        -        -   \n",
       "BMI                         -        -        -        -        -        -   \n",
       "Smoker                37094.0  33598.0        -        -        -        -   \n",
       "Stroke                66297.0   4395.0        -        -        -        -   \n",
       "HeartDiseaseorAttack  60243.0  10449.0        -        -        -        -   \n",
       "PhysActivity          20993.0  49699.0        -        -        -        -   \n",
       "Fruits                27443.0  43249.0        -        -        -        -   \n",
       "Veggies               14932.0  55760.0        -        -        -        -   \n",
       "HvyAlcoholConsump     67672.0   3020.0        -        -        -        -   \n",
       "AnyHealthcare          3184.0  67508.0        -        -        -        -   \n",
       "NoDocbcCost           64053.0   6639.0        -        -        -        -   \n",
       "GenHlth                     -   8282.0  19872.0  23427.0  13303.0   5808.0   \n",
       "MentHlth              48091.0   2051.0   3267.0   1967.0    981.0   2519.0   \n",
       "PhysHlth              39915.0   2853.0   4102.0   2438.0   1376.0   2332.0   \n",
       "DiffWalk              52826.0  17866.0        -        -        -        -   \n",
       "Sex                   38386.0  32306.0        -        -        -        -   \n",
       "Age                         -    979.0   1396.0   2049.0   2793.0   3520.0   \n",
       "Education                   -     75.0   1647.0   3447.0  19473.0  20030.0   \n",
       "Income                      -   3611.0   4498.0   5557.0   6658.0   8010.0   \n",
       "\n",
       "                         6.0      7.0      8.0      9.0   ...  82.0 83.0  \\\n",
       "Diabetes_binary             -        -        -        -  ...     -    -   \n",
       "HighBP                      -        -        -        -  ...     -    -   \n",
       "HighChol                    -        -        -        -  ...     -    -   \n",
       "CholCheck                   -        -        -        -  ...     -    -   \n",
       "BMI                         -        -        -        -  ...  11.0  1.0   \n",
       "Smoker                      -        -        -        -  ...     -    -   \n",
       "Stroke                      -        -        -        -  ...     -    -   \n",
       "HeartDiseaseorAttack        -        -        -        -  ...     -    -   \n",
       "PhysActivity                -        -        -        -  ...     -    -   \n",
       "Fruits                      -        -        -        -  ...     -    -   \n",
       "Veggies                     -        -        -        -  ...     -    -   \n",
       "HvyAlcoholConsump           -        -        -        -  ...     -    -   \n",
       "AnyHealthcare               -        -        -        -  ...     -    -   \n",
       "NoDocbcCost                 -        -        -        -  ...     -    -   \n",
       "GenHlth                     -        -        -        -  ...     -    -   \n",
       "MentHlth                288.0    825.0    198.0     28.0  ...     -    -   \n",
       "PhysHlth                447.0   1326.0    276.0     55.0  ...     -    -   \n",
       "DiffWalk                    -        -        -        -  ...     -    -   \n",
       "Sex                         -        -        -        -  ...     -    -   \n",
       "Age                    4648.0   6872.0   8603.0  10112.0  ...     -    -   \n",
       "Education             26020.0        -        -        -  ...     -    -   \n",
       "Income                10287.0  11425.0  20646.0        -  ...     -    -   \n",
       "\n",
       "                      84.0 85.0 86.0  87.0 89.0 92.0 95.0 98.0  \n",
       "Diabetes_binary          -    -    -     -    -    -    -    -  \n",
       "HighBP                   -    -    -     -    -    -    -    -  \n",
       "HighChol                 -    -    -     -    -    -    -    -  \n",
       "CholCheck                -    -    -     -    -    -    -    -  \n",
       "BMI                   13.0  1.0  1.0  13.0  4.0  9.0  4.0  4.0  \n",
       "Smoker                   -    -    -     -    -    -    -    -  \n",
       "Stroke                   -    -    -     -    -    -    -    -  \n",
       "HeartDiseaseorAttack     -    -    -     -    -    -    -    -  \n",
       "PhysActivity             -    -    -     -    -    -    -    -  \n",
       "Fruits                   -    -    -     -    -    -    -    -  \n",
       "Veggies                  -    -    -     -    -    -    -    -  \n",
       "HvyAlcoholConsump        -    -    -     -    -    -    -    -  \n",
       "AnyHealthcare            -    -    -     -    -    -    -    -  \n",
       "NoDocbcCost              -    -    -     -    -    -    -    -  \n",
       "GenHlth                  -    -    -     -    -    -    -    -  \n",
       "MentHlth                 -    -    -     -    -    -    -    -  \n",
       "PhysHlth                 -    -    -     -    -    -    -    -  \n",
       "DiffWalk                 -    -    -     -    -    -    -    -  \n",
       "Sex                      -    -    -     -    -    -    -    -  \n",
       "Age                      -    -    -     -    -    -    -    -  \n",
       "Education                -    -    -     -    -    -    -    -  \n",
       "Income                   -    -    -     -    -    -    -    -  \n",
       "\n",
       "[22 rows x 92 columns]"
      ]
     },
     "execution_count": 4,
     "metadata": {},
     "output_type": "execute_result"
    }
   ],
   "source": [
    "#use replace NaN with empty string using replace()function [df.replace(np.nan, '' or '-')]\n",
    "data = brfss2015_dataset.apply(pd.value_counts).T\n",
    "data.replace(np.nan, '-')"
   ]
  },
  {
   "cell_type": "markdown",
   "id": "faa4eb30",
   "metadata": {},
   "source": [
    "NaN values or '-' are not applicable, most of the values are 0 and 1 representing yes/no values\n"
   ]
  },
  {
   "cell_type": "code",
   "execution_count": null,
   "id": "3170aeee",
   "metadata": {},
   "outputs": [],
   "source": [
    "#total number of male = 1; female=0; diabetes =2\n",
    "brfss2015_dataset.value_counts(subset='Diabetes_binary')"
   ]
  },
  {
   "cell_type": "markdown",
   "id": "8b1257eb",
   "metadata": {},
   "source": [
    "Shows that there is 50-50 split of people with and without diabetes in the survey"
   ]
  },
  {
   "cell_type": "code",
   "execution_count": 20,
   "id": "b82194a8",
   "metadata": {},
   "outputs": [
    {
     "data": {
      "text/plain": [
       "HighBP\n",
       "1.0    39832\n",
       "0.0    30860\n",
       "dtype: int64"
      ]
     },
     "execution_count": 20,
     "metadata": {},
     "output_type": "execute_result"
    }
   ],
   "source": [
    "brfss2015_dataset.value_counts(subset='HighBP')"
   ]
  },
  {
   "cell_type": "markdown",
   "id": "b518b283",
   "metadata": {},
   "source": [
    "Highest count for people with high BP"
   ]
  },
  {
   "cell_type": "code",
   "execution_count": 21,
   "id": "12e802a8",
   "metadata": {},
   "outputs": [
    {
     "data": {
      "text/plain": [
       "HighChol\n",
       "1.0    37163\n",
       "0.0    33529\n",
       "dtype: int64"
      ]
     },
     "execution_count": 21,
     "metadata": {},
     "output_type": "execute_result"
    }
   ],
   "source": [
    "brfss2015_dataset.value_counts(subset='HighChol')"
   ]
  },
  {
   "cell_type": "markdown",
   "id": "5be56b8f",
   "metadata": {},
   "source": [
    "Highest count for people with high cholesterol"
   ]
  },
  {
   "cell_type": "code",
   "execution_count": 22,
   "id": "f2513ab6",
   "metadata": {},
   "outputs": [
    {
     "data": {
      "text/plain": [
       "CholCheck\n",
       "1.0    68943\n",
       "0.0     1749\n",
       "dtype: int64"
      ]
     },
     "execution_count": 22,
     "metadata": {},
     "output_type": "execute_result"
    }
   ],
   "source": [
    "brfss2015_dataset.value_counts(subset='CholCheck')"
   ]
  },
  {
   "cell_type": "markdown",
   "id": "0c935793",
   "metadata": {},
   "source": [
    "Highest count for people with who had their cholesterol check in the past 5 years"
   ]
  },
  {
   "cell_type": "code",
   "execution_count": 23,
   "id": "ee59ffac",
   "metadata": {},
   "outputs": [
    {
     "data": {
      "text/plain": [
       "BMI\n",
       "27.0    6327\n",
       "26.0    4975\n",
       "28.0    4583\n",
       "24.0    4392\n",
       "30.0    4344\n",
       "        ... \n",
       "85.0       1\n",
       "86.0       1\n",
       "78.0       1\n",
       "74.0       1\n",
       "12.0       1\n",
       "Length: 80, dtype: int64"
      ]
     },
     "execution_count": 23,
     "metadata": {},
     "output_type": "execute_result"
    }
   ],
   "source": [
    "brfss2015_dataset.value_counts(subset='BMI')"
   ]
  },
  {
   "cell_type": "markdown",
   "id": "1d5eeefc",
   "metadata": {},
   "source": [
    "Noted BMI of 27 is in the overweight range (25.0 to <30) has the highest values count in BMI"
   ]
  },
  {
   "cell_type": "code",
   "execution_count": 24,
   "id": "05a0c6f5",
   "metadata": {},
   "outputs": [
    {
     "data": {
      "text/plain": [
       "Smoker\n",
       "0.0    37094\n",
       "1.0    33598\n",
       "dtype: int64"
      ]
     },
     "execution_count": 24,
     "metadata": {},
     "output_type": "execute_result"
    }
   ],
   "source": [
    "brfss2015_dataset.value_counts(subset='Smoker')"
   ]
  },
  {
   "cell_type": "markdown",
   "id": "9f077fcf",
   "metadata": {},
   "source": [
    "There are more non smoker and smokers"
   ]
  },
  {
   "cell_type": "code",
   "execution_count": 25,
   "id": "87325004",
   "metadata": {},
   "outputs": [
    {
     "data": {
      "text/plain": [
       "Stroke\n",
       "0.0    66297\n",
       "1.0     4395\n",
       "dtype: int64"
      ]
     },
     "execution_count": 25,
     "metadata": {},
     "output_type": "execute_result"
    }
   ],
   "source": [
    "brfss2015_dataset.value_counts(subset='Stroke')"
   ]
  },
  {
   "cell_type": "markdown",
   "id": "cec60ec5",
   "metadata": {},
   "source": [
    "Highest count for people who did not have stroke"
   ]
  },
  {
   "cell_type": "code",
   "execution_count": 26,
   "id": "f66650f6",
   "metadata": {},
   "outputs": [
    {
     "data": {
      "text/plain": [
       "HeartDiseaseorAttack\n",
       "0.0    60243\n",
       "1.0    10449\n",
       "dtype: int64"
      ]
     },
     "execution_count": 26,
     "metadata": {},
     "output_type": "execute_result"
    }
   ],
   "source": [
    "brfss2015_dataset.value_counts(subset='HeartDiseaseorAttack')"
   ]
  },
  {
   "cell_type": "markdown",
   "id": "b7b1e343",
   "metadata": {},
   "source": [
    "Highest count for people who do not have any heart disease/attack"
   ]
  },
  {
   "cell_type": "code",
   "execution_count": 27,
   "id": "b1824632",
   "metadata": {},
   "outputs": [
    {
     "data": {
      "text/plain": [
       "PhysActivity\n",
       "1.0    49699\n",
       "0.0    20993\n",
       "dtype: int64"
      ]
     },
     "execution_count": 27,
     "metadata": {},
     "output_type": "execute_result"
    }
   ],
   "source": [
    "brfss2015_dataset.value_counts(subset='PhysActivity')"
   ]
  },
  {
   "cell_type": "markdown",
   "id": "a418b6ed",
   "metadata": {},
   "source": [
    "Big count on number of respondents who performed physical activity"
   ]
  },
  {
   "cell_type": "code",
   "execution_count": 28,
   "id": "2ab0e131",
   "metadata": {},
   "outputs": [
    {
     "data": {
      "text/plain": [
       "Fruits\n",
       "1.0    43249\n",
       "0.0    27443\n",
       "dtype: int64"
      ]
     },
     "execution_count": 28,
     "metadata": {},
     "output_type": "execute_result"
    }
   ],
   "source": [
    "brfss2015_dataset.value_counts(subset='Fruits')"
   ]
  },
  {
   "cell_type": "markdown",
   "id": "d5173536",
   "metadata": {},
   "source": [
    "Big count on number of respondents who ate 1 or more times a day"
   ]
  },
  {
   "cell_type": "code",
   "execution_count": 29,
   "id": "e4d1b97d",
   "metadata": {},
   "outputs": [
    {
     "data": {
      "text/plain": [
       "Veggies\n",
       "1.0    55760\n",
       "0.0    14932\n",
       "dtype: int64"
      ]
     },
     "execution_count": 29,
     "metadata": {},
     "output_type": "execute_result"
    }
   ],
   "source": [
    "brfss2015_dataset.value_counts(subset='Veggies')"
   ]
  },
  {
   "cell_type": "markdown",
   "id": "42d59ea8",
   "metadata": {},
   "source": [
    "Big count on number of respondents who ate veggies 1 or more times a day"
   ]
  },
  {
   "cell_type": "code",
   "execution_count": 30,
   "id": "34969100",
   "metadata": {},
   "outputs": [
    {
     "data": {
      "text/plain": [
       "HvyAlcoholConsump\n",
       "0.0    67672\n",
       "1.0     3020\n",
       "dtype: int64"
      ]
     },
     "execution_count": 30,
     "metadata": {},
     "output_type": "execute_result"
    }
   ],
   "source": [
    "brfss2015_dataset.value_counts(subset='HvyAlcoholConsump')"
   ]
  },
  {
   "cell_type": "markdown",
   "id": "2b2aeef4",
   "metadata": {},
   "source": [
    "Bid count on respondents who did not drink any alcohol"
   ]
  },
  {
   "cell_type": "code",
   "execution_count": 31,
   "id": "533b5728",
   "metadata": {},
   "outputs": [
    {
     "data": {
      "text/plain": [
       "AnyHealthcare\n",
       "1.0    67508\n",
       "0.0     3184\n",
       "dtype: int64"
      ]
     },
     "execution_count": 31,
     "metadata": {},
     "output_type": "execute_result"
    }
   ],
   "source": [
    "brfss2015_dataset.value_counts(subset='AnyHealthcare')"
   ]
  },
  {
   "cell_type": "markdown",
   "id": "7429a16b",
   "metadata": {},
   "source": [
    "the highest count for people with healthcare coverage"
   ]
  },
  {
   "cell_type": "code",
   "execution_count": 32,
   "id": "197e35d3",
   "metadata": {},
   "outputs": [
    {
     "data": {
      "text/plain": [
       "NoDocbcCost\n",
       "0.0    64053\n",
       "1.0     6639\n",
       "dtype: int64"
      ]
     },
     "execution_count": 32,
     "metadata": {},
     "output_type": "execute_result"
    }
   ],
   "source": [
    "brfss2015_dataset.value_counts(subset='NoDocbcCost')"
   ]
  },
  {
   "cell_type": "markdown",
   "id": "db0439f7",
   "metadata": {},
   "source": [
    "The hihgest count are people who are able to go the doctor despite cost"
   ]
  },
  {
   "cell_type": "code",
   "execution_count": 33,
   "id": "44cdc81c",
   "metadata": {},
   "outputs": [
    {
     "data": {
      "text/plain": [
       "GenHlth\n",
       "3.0    23427\n",
       "2.0    19872\n",
       "4.0    13303\n",
       "1.0     8282\n",
       "5.0     5808\n",
       "dtype: int64"
      ]
     },
     "execution_count": 33,
     "metadata": {},
     "output_type": "execute_result"
    }
   ],
   "source": [
    "brfss2015_dataset.value_counts(subset='GenHlth')"
   ]
  },
  {
   "cell_type": "markdown",
   "id": "eafc4d30",
   "metadata": {},
   "source": [
    "The highest count are for people who are in good general health"
   ]
  },
  {
   "cell_type": "code",
   "execution_count": 34,
   "id": "18566265",
   "metadata": {},
   "outputs": [
    {
     "data": {
      "text/plain": [
       "MentHlth\n",
       "0.0     48091\n",
       "30.0     4320\n",
       "2.0      3267\n",
       "5.0      2519\n",
       "1.0      2051\n",
       "3.0      1967\n",
       "10.0     1924\n",
       "15.0     1767\n",
       "20.0     1125\n",
       "4.0       981\n",
       "7.0       825\n",
       "25.0      425\n",
       "14.0      353\n",
       "6.0       288\n",
       "8.0       198\n",
       "12.0      130\n",
       "28.0       99\n",
       "21.0       84\n",
       "29.0       53\n",
       "18.0       42\n",
       "16.0       28\n",
       "9.0        28\n",
       "22.0       22\n",
       "17.0       18\n",
       "26.0       17\n",
       "27.0       17\n",
       "13.0       15\n",
       "23.0       13\n",
       "24.0       10\n",
       "11.0        8\n",
       "19.0        7\n",
       "dtype: int64"
      ]
     },
     "execution_count": 34,
     "metadata": {},
     "output_type": "execute_result"
    }
   ],
   "source": [
    "brfss2015_dataset.value_counts(subset='MentHlth')"
   ]
  },
  {
   "cell_type": "markdown",
   "id": "e4cb2bde",
   "metadata": {},
   "source": [
    "The biggest count on the number of days with poor mental health is 0 and the 30 days came second"
   ]
  },
  {
   "cell_type": "code",
   "execution_count": 35,
   "id": "37f14bd2",
   "metadata": {},
   "outputs": [
    {
     "data": {
      "text/plain": [
       "PhysHlth\n",
       "0.0     39915\n",
       "30.0     7953\n",
       "2.0      4102\n",
       "1.0      2853\n",
       "3.0      2438\n",
       "5.0      2332\n",
       "10.0     1980\n",
       "15.0     1913\n",
       "4.0      1376\n",
       "7.0      1326\n",
       "20.0     1292\n",
       "14.0      802\n",
       "25.0      557\n",
       "6.0       447\n",
       "8.0       276\n",
       "21.0      229\n",
       "28.0      211\n",
       "12.0      205\n",
       "29.0       95\n",
       "9.0        55\n",
       "16.0       50\n",
       "18.0       50\n",
       "17.0       35\n",
       "27.0       34\n",
       "22.0       31\n",
       "23.0       27\n",
       "26.0       26\n",
       "13.0       26\n",
       "24.0       24\n",
       "11.0       22\n",
       "19.0       10\n",
       "dtype: int64"
      ]
     },
     "execution_count": 35,
     "metadata": {},
     "output_type": "execute_result"
    }
   ],
   "source": [
    "brfss2015_dataset.value_counts(subset='PhysHlth')"
   ]
  },
  {
   "cell_type": "markdown",
   "id": "5a0dfa26",
   "metadata": {},
   "source": [
    "The biggest count on the number of days with physical illness or injury is 0 and 30 days came second"
   ]
  },
  {
   "cell_type": "code",
   "execution_count": 37,
   "id": "a718c098",
   "metadata": {},
   "outputs": [
    {
     "data": {
      "text/plain": [
       "DiffWalk\n",
       "0.0    52826\n",
       "1.0    17866\n",
       "dtype: int64"
      ]
     },
     "execution_count": 37,
     "metadata": {},
     "output_type": "execute_result"
    }
   ],
   "source": [
    "brfss2015_dataset.value_counts(subset='DiffWalk')"
   ]
  },
  {
   "cell_type": "markdown",
   "id": "061aadb2",
   "metadata": {},
   "source": [
    "There are less people who responded to having difficulty in walking"
   ]
  },
  {
   "cell_type": "code",
   "execution_count": 13,
   "id": "2bbb7877",
   "metadata": {},
   "outputs": [
    {
     "data": {
      "text/plain": [
       "Sex\n",
       "0.0    38386\n",
       "1.0    32306\n",
       "dtype: int64"
      ]
     },
     "execution_count": 13,
     "metadata": {},
     "output_type": "execute_result"
    }
   ],
   "source": [
    "brfss2015_dataset.value_counts(subset='Sex')"
   ]
  },
  {
   "cell_type": "markdown",
   "id": "a699bda2",
   "metadata": {},
   "source": [
    "The data above shows there is about male(45.7%) and female(54.3%) respondents to the survey\n"
   ]
  },
  {
   "cell_type": "code",
   "execution_count": 14,
   "id": "e195df0e",
   "metadata": {},
   "outputs": [
    {
     "data": {
      "text/plain": [
       "Age\n",
       "10.0    10856\n",
       "9.0     10112\n",
       "8.0      8603\n",
       "11.0     8044\n",
       "7.0      6872\n",
       "13.0     5426\n",
       "12.0     5394\n",
       "6.0      4648\n",
       "5.0      3520\n",
       "4.0      2793\n",
       "3.0      2049\n",
       "2.0      1396\n",
       "1.0       979\n",
       "dtype: int64"
      ]
     },
     "execution_count": 14,
     "metadata": {},
     "output_type": "execute_result"
    }
   ],
   "source": [
    "brfss2015_dataset.value_counts(subset='Age')"
   ]
  },
  {
   "cell_type": "markdown",
   "id": "d3a27a1d",
   "metadata": {},
   "source": [
    "The count shows that top age group is 65-69; second is 60-64; third is 55-59;\n",
    "The age group of 65-69 has the highest count and age group of 18-24 has ths least count."
   ]
  },
  {
   "cell_type": "code",
   "execution_count": 38,
   "id": "6c8b9295",
   "metadata": {},
   "outputs": [
    {
     "data": {
      "text/plain": [
       "Education\n",
       "6.0    26020\n",
       "5.0    20030\n",
       "4.0    19473\n",
       "3.0     3447\n",
       "2.0     1647\n",
       "1.0       75\n",
       "dtype: int64"
      ]
     },
     "execution_count": 38,
     "metadata": {},
     "output_type": "execute_result"
    }
   ],
   "source": [
    "brfss2015_dataset.value_counts(subset='Education')"
   ]
  },
  {
   "cell_type": "markdown",
   "id": "ac0b5b23",
   "metadata": {},
   "source": [
    "The highest count for education level are those who are college graduate or more"
   ]
  },
  {
   "cell_type": "code",
   "execution_count": 39,
   "id": "ab624bc4",
   "metadata": {},
   "outputs": [
    {
     "data": {
      "text/plain": [
       "Income\n",
       "8.0    20646\n",
       "7.0    11425\n",
       "6.0    10287\n",
       "5.0     8010\n",
       "4.0     6658\n",
       "3.0     5557\n",
       "2.0     4498\n",
       "1.0     3611\n",
       "dtype: int64"
      ]
     },
     "execution_count": 39,
     "metadata": {},
     "output_type": "execute_result"
    }
   ],
   "source": [
    "brfss2015_dataset.value_counts(subset='Income')"
   ]
  },
  {
   "cell_type": "markdown",
   "id": "dda81f18",
   "metadata": {},
   "source": [
    "The highest count for income where individuals earning >75K or more"
   ]
  },
  {
   "cell_type": "code",
   "execution_count": 5,
   "id": "1e9d9481",
   "metadata": {},
   "outputs": [
    {
     "data": {
      "text/plain": [
       "Diabetes_binary          0.500000\n",
       "HighBP                   0.563458\n",
       "HighChol                 0.525703\n",
       "CholCheck                0.975259\n",
       "BMI                     29.856985\n",
       "Smoker                   0.475273\n",
       "Stroke                   0.062171\n",
       "HeartDiseaseorAttack     0.147810\n",
       "PhysActivity             0.703036\n",
       "Fruits                   0.611795\n",
       "Veggies                  0.788774\n",
       "HvyAlcoholConsump        0.042721\n",
       "AnyHealthcare            0.954960\n",
       "NoDocbcCost              0.093914\n",
       "GenHlth                  2.837082\n",
       "MentHlth                 3.752037\n",
       "PhysHlth                 5.810417\n",
       "DiffWalk                 0.252730\n",
       "Sex                      0.456997\n",
       "Age                      8.584055\n",
       "Education                4.920953\n",
       "Income                   5.698311\n",
       "dtype: float64"
      ]
     },
     "execution_count": 5,
     "metadata": {},
     "output_type": "execute_result"
    }
   ],
   "source": [
    "df = pd.DataFrame(brfss2015_dataset)\n",
    "df.mean()"
   ]
  },
  {
   "cell_type": "code",
   "execution_count": 75,
   "id": "929a54ba",
   "metadata": {
    "scrolled": false
   },
   "outputs": [
    {
     "data": {
      "text/plain": [
       "<AxesSubplot:ylabel='Frequency'>"
      ]
     },
     "execution_count": 75,
     "metadata": {},
     "output_type": "execute_result"
    },
    {
     "data": {
      "image/png": "[encoded data removed]",
      "text/plain": [
       "<Figure size 640x480 with 1 Axes>"
      ]
     },
     "metadata": {},
     "output_type": "display_data"
    }
   ],
   "source": [
    "df['Diabetes_binary'].plot(kind='hist')"
   ]
  },
  {
   "cell_type": "code",
   "execution_count": 6,
   "id": "492a60ca",
   "metadata": {},
   "outputs": [],
   "source": [
    "top5 = df.sort_values(by='Diabetes_binary', ascending=False)\n",
    "\n",
    "#top5.plot(x='Features', y='Diabetes_binary', kind='bar', rot=5, fontsize=4)"
   ]
  },
  {
   "cell_type": "code",
   "execution_count": 66,
   "id": "e90e74ab",
   "metadata": {},
   "outputs": [
    {
     "data": {
      "text/plain": [
       "Diabetes_binary          0.5\n",
       "HighBP                   1.0\n",
       "HighChol                 1.0\n",
       "CholCheck                1.0\n",
       "BMI                     29.0\n",
       "Smoker                   0.0\n",
       "Stroke                   0.0\n",
       "HeartDiseaseorAttack     0.0\n",
       "PhysActivity             1.0\n",
       "Fruits                   1.0\n",
       "Veggies                  1.0\n",
       "HvyAlcoholConsump        0.0\n",
       "AnyHealthcare            1.0\n",
       "NoDocbcCost              0.0\n",
       "GenHlth                  3.0\n",
       "MentHlth                 0.0\n",
       "PhysHlth                 0.0\n",
       "DiffWalk                 0.0\n",
       "Sex                      0.0\n",
       "Age                      9.0\n",
       "Education                5.0\n",
       "Income                   6.0\n",
       "dtype: float64"
      ]
     },
     "execution_count": 66,
     "metadata": {},
     "output_type": "execute_result"
    }
   ],
   "source": [
    "df.median()"
   ]
  },
  {
   "cell_type": "code",
   "execution_count": 68,
   "id": "22154bed",
   "metadata": {},
   "outputs": [
    {
     "data": {
      "text/html": [
       "<div>\n",
       "<style scoped>\n",
       "    .dataframe tbody tr th:only-of-type {\n",
       "        vertical-align: middle;\n",
       "    }\n",
       "\n",
       "    .dataframe tbody tr th {\n",
       "        vertical-align: top;\n",
       "    }\n",
       "\n",
       "    .dataframe thead th {\n",
       "        text-align: right;\n",
       "    }\n",
       "</style>\n",
       "<table border=\"1\" class=\"dataframe\">\n",
       "  <thead>\n",
       "    <tr style=\"text-align: right;\">\n",
       "      <th></th>\n",
       "      <th>0</th>\n",
       "      <th>1</th>\n",
       "    </tr>\n",
       "  </thead>\n",
       "  <tbody>\n",
       "    <tr>\n",
       "      <th>Diabetes_binary</th>\n",
       "      <td>0.0</td>\n",
       "      <td>1.0</td>\n",
       "    </tr>\n",
       "    <tr>\n",
       "      <th>HighBP</th>\n",
       "      <td>1.0</td>\n",
       "      <td>NaN</td>\n",
       "    </tr>\n",
       "    <tr>\n",
       "      <th>HighChol</th>\n",
       "      <td>1.0</td>\n",
       "      <td>NaN</td>\n",
       "    </tr>\n",
       "    <tr>\n",
       "      <th>CholCheck</th>\n",
       "      <td>1.0</td>\n",
       "      <td>NaN</td>\n",
       "    </tr>\n",
       "    <tr>\n",
       "      <th>BMI</th>\n",
       "      <td>27.0</td>\n",
       "      <td>NaN</td>\n",
       "    </tr>\n",
       "    <tr>\n",
       "      <th>Smoker</th>\n",
       "      <td>0.0</td>\n",
       "      <td>NaN</td>\n",
       "    </tr>\n",
       "    <tr>\n",
       "      <th>Stroke</th>\n",
       "      <td>0.0</td>\n",
       "      <td>NaN</td>\n",
       "    </tr>\n",
       "    <tr>\n",
       "      <th>HeartDiseaseorAttack</th>\n",
       "      <td>0.0</td>\n",
       "      <td>NaN</td>\n",
       "    </tr>\n",
       "    <tr>\n",
       "      <th>PhysActivity</th>\n",
       "      <td>1.0</td>\n",
       "      <td>NaN</td>\n",
       "    </tr>\n",
       "    <tr>\n",
       "      <th>Fruits</th>\n",
       "      <td>1.0</td>\n",
       "      <td>NaN</td>\n",
       "    </tr>\n",
       "    <tr>\n",
       "      <th>Veggies</th>\n",
       "      <td>1.0</td>\n",
       "      <td>NaN</td>\n",
       "    </tr>\n",
       "    <tr>\n",
       "      <th>HvyAlcoholConsump</th>\n",
       "      <td>0.0</td>\n",
       "      <td>NaN</td>\n",
       "    </tr>\n",
       "    <tr>\n",
       "      <th>AnyHealthcare</th>\n",
       "      <td>1.0</td>\n",
       "      <td>NaN</td>\n",
       "    </tr>\n",
       "    <tr>\n",
       "      <th>NoDocbcCost</th>\n",
       "      <td>0.0</td>\n",
       "      <td>NaN</td>\n",
       "    </tr>\n",
       "    <tr>\n",
       "      <th>GenHlth</th>\n",
       "      <td>3.0</td>\n",
       "      <td>NaN</td>\n",
       "    </tr>\n",
       "    <tr>\n",
       "      <th>MentHlth</th>\n",
       "      <td>0.0</td>\n",
       "      <td>NaN</td>\n",
       "    </tr>\n",
       "    <tr>\n",
       "      <th>PhysHlth</th>\n",
       "      <td>0.0</td>\n",
       "      <td>NaN</td>\n",
       "    </tr>\n",
       "    <tr>\n",
       "      <th>DiffWalk</th>\n",
       "      <td>0.0</td>\n",
       "      <td>NaN</td>\n",
       "    </tr>\n",
       "    <tr>\n",
       "      <th>Sex</th>\n",
       "      <td>0.0</td>\n",
       "      <td>NaN</td>\n",
       "    </tr>\n",
       "    <tr>\n",
       "      <th>Age</th>\n",
       "      <td>10.0</td>\n",
       "      <td>NaN</td>\n",
       "    </tr>\n",
       "    <tr>\n",
       "      <th>Education</th>\n",
       "      <td>6.0</td>\n",
       "      <td>NaN</td>\n",
       "    </tr>\n",
       "    <tr>\n",
       "      <th>Income</th>\n",
       "      <td>8.0</td>\n",
       "      <td>NaN</td>\n",
       "    </tr>\n",
       "  </tbody>\n",
       "</table>\n",
       "</div>"
      ],
      "text/plain": [
       "                         0    1\n",
       "Diabetes_binary        0.0  1.0\n",
       "HighBP                 1.0  NaN\n",
       "HighChol               1.0  NaN\n",
       "CholCheck              1.0  NaN\n",
       "BMI                   27.0  NaN\n",
       "Smoker                 0.0  NaN\n",
       "Stroke                 0.0  NaN\n",
       "HeartDiseaseorAttack   0.0  NaN\n",
       "PhysActivity           1.0  NaN\n",
       "Fruits                 1.0  NaN\n",
       "Veggies                1.0  NaN\n",
       "HvyAlcoholConsump      0.0  NaN\n",
       "AnyHealthcare          1.0  NaN\n",
       "NoDocbcCost            0.0  NaN\n",
       "GenHlth                3.0  NaN\n",
       "MentHlth               0.0  NaN\n",
       "PhysHlth               0.0  NaN\n",
       "DiffWalk               0.0  NaN\n",
       "Sex                    0.0  NaN\n",
       "Age                   10.0  NaN\n",
       "Education              6.0  NaN\n",
       "Income                 8.0  NaN"
      ]
     },
     "execution_count": 68,
     "metadata": {},
     "output_type": "execute_result"
    }
   ],
   "source": [
    "df.mode().T"
   ]
  },
  {
   "cell_type": "code",
   "execution_count": 69,
   "id": "a002c4e9",
   "metadata": {},
   "outputs": [
    {
     "data": {
      "text/plain": [
       "Diabetes_binary          0.500004\n",
       "HighBP                   0.495960\n",
       "HighChol                 0.499342\n",
       "CholCheck                0.155336\n",
       "BMI                      7.113954\n",
       "Smoker                   0.499392\n",
       "Stroke                   0.241468\n",
       "HeartDiseaseorAttack     0.354914\n",
       "PhysActivity             0.456924\n",
       "Fruits                   0.487345\n",
       "Veggies                  0.408181\n",
       "HvyAlcoholConsump        0.202228\n",
       "AnyHealthcare            0.207394\n",
       "NoDocbcCost              0.291712\n",
       "GenHlth                  1.113565\n",
       "MentHlth                 8.155627\n",
       "PhysHlth                10.062261\n",
       "DiffWalk                 0.434581\n",
       "Sex                      0.498151\n",
       "Age                      2.852153\n",
       "Education                1.029081\n",
       "Income                   2.175196\n",
       "dtype: float64"
      ]
     },
     "execution_count": 69,
     "metadata": {},
     "output_type": "execute_result"
    }
   ],
   "source": [
    "df.std()"
   ]
  },
  {
   "cell_type": "code",
   "execution_count": 7,
   "id": "27d1efa0",
   "metadata": {},
   "outputs": [
    {
     "data": {
      "text/html": [
       "<div>\n",
       "<style scoped>\n",
       "    .dataframe tbody tr th:only-of-type {\n",
       "        vertical-align: middle;\n",
       "    }\n",
       "\n",
       "    .dataframe tbody tr th {\n",
       "        vertical-align: top;\n",
       "    }\n",
       "\n",
       "    .dataframe thead th {\n",
       "        text-align: right;\n",
       "    }\n",
       "</style>\n",
       "<table border=\"1\" class=\"dataframe\">\n",
       "  <thead>\n",
       "    <tr style=\"text-align: right;\">\n",
       "      <th></th>\n",
       "      <th>Diabetes_binary</th>\n",
       "      <th>HighBP</th>\n",
       "      <th>HighChol</th>\n",
       "      <th>CholCheck</th>\n",
       "    </tr>\n",
       "  </thead>\n",
       "  <tbody>\n",
       "    <tr>\n",
       "      <th>0</th>\n",
       "      <td>0.0</td>\n",
       "      <td>1.0</td>\n",
       "      <td>0.0</td>\n",
       "      <td>1.0</td>\n",
       "    </tr>\n",
       "    <tr>\n",
       "      <th>1</th>\n",
       "      <td>0.0</td>\n",
       "      <td>1.0</td>\n",
       "      <td>1.0</td>\n",
       "      <td>1.0</td>\n",
       "    </tr>\n",
       "    <tr>\n",
       "      <th>2</th>\n",
       "      <td>0.0</td>\n",
       "      <td>0.0</td>\n",
       "      <td>0.0</td>\n",
       "      <td>1.0</td>\n",
       "    </tr>\n",
       "    <tr>\n",
       "      <th>3</th>\n",
       "      <td>0.0</td>\n",
       "      <td>1.0</td>\n",
       "      <td>1.0</td>\n",
       "      <td>1.0</td>\n",
       "    </tr>\n",
       "    <tr>\n",
       "      <th>4</th>\n",
       "      <td>0.0</td>\n",
       "      <td>0.0</td>\n",
       "      <td>0.0</td>\n",
       "      <td>1.0</td>\n",
       "    </tr>\n",
       "    <tr>\n",
       "      <th>...</th>\n",
       "      <td>...</td>\n",
       "      <td>...</td>\n",
       "      <td>...</td>\n",
       "      <td>...</td>\n",
       "    </tr>\n",
       "    <tr>\n",
       "      <th>70687</th>\n",
       "      <td>1.0</td>\n",
       "      <td>0.0</td>\n",
       "      <td>1.0</td>\n",
       "      <td>1.0</td>\n",
       "    </tr>\n",
       "    <tr>\n",
       "      <th>70688</th>\n",
       "      <td>1.0</td>\n",
       "      <td>0.0</td>\n",
       "      <td>1.0</td>\n",
       "      <td>1.0</td>\n",
       "    </tr>\n",
       "    <tr>\n",
       "      <th>70689</th>\n",
       "      <td>1.0</td>\n",
       "      <td>1.0</td>\n",
       "      <td>1.0</td>\n",
       "      <td>1.0</td>\n",
       "    </tr>\n",
       "    <tr>\n",
       "      <th>70690</th>\n",
       "      <td>1.0</td>\n",
       "      <td>1.0</td>\n",
       "      <td>1.0</td>\n",
       "      <td>1.0</td>\n",
       "    </tr>\n",
       "    <tr>\n",
       "      <th>70691</th>\n",
       "      <td>1.0</td>\n",
       "      <td>1.0</td>\n",
       "      <td>1.0</td>\n",
       "      <td>1.0</td>\n",
       "    </tr>\n",
       "  </tbody>\n",
       "</table>\n",
       "<p>70692 rows × 4 columns</p>\n",
       "</div>"
      ],
      "text/plain": [
       "       Diabetes_binary  HighBP  HighChol  CholCheck\n",
       "0                  0.0     1.0       0.0        1.0\n",
       "1                  0.0     1.0       1.0        1.0\n",
       "2                  0.0     0.0       0.0        1.0\n",
       "3                  0.0     1.0       1.0        1.0\n",
       "4                  0.0     0.0       0.0        1.0\n",
       "...                ...     ...       ...        ...\n",
       "70687              1.0     0.0       1.0        1.0\n",
       "70688              1.0     0.0       1.0        1.0\n",
       "70689              1.0     1.0       1.0        1.0\n",
       "70690              1.0     1.0       1.0        1.0\n",
       "70691              1.0     1.0       1.0        1.0\n",
       "\n",
       "[70692 rows x 4 columns]"
      ]
     },
     "execution_count": 7,
     "metadata": {},
     "output_type": "execute_result"
    }
   ],
   "source": [
    "df_new = df[['Diabetes_binary', 'HighBP', 'HighChol', 'CholCheck']]\n",
    "df_new"
   ]
  },
  {
   "cell_type": "code",
   "execution_count": 8,
   "id": "7e3eaa40",
   "metadata": {},
   "outputs": [
    {
     "data": {
      "text/plain": [
       "<AxesSubplot:>"
      ]
     },
     "execution_count": 8,
     "metadata": {},
     "output_type": "execute_result"
    },
    {
     "data": {
      "image/png": "[encoded data removed]",
      "text/plain": [
       "<Figure size 640x480 with 1 Axes>"
      ]
     },
     "metadata": {},
     "output_type": "display_data"
    }
   ],
   "source": [
    "df.plot()"
   ]
  },
  {
   "cell_type": "code",
   "execution_count": 9,
   "id": "a289f5ef",
   "metadata": {},
   "outputs": [
    {
     "data": {
      "text/plain": [
       "[<matplotlib.lines.Line2D at 0x172463127c0>]"
      ]
     },
     "execution_count": 9,
     "metadata": {},
     "output_type": "execute_result"
    },
    {
     "data": {
      "image/png": "[encoded data removed]",
      "text/plain": [
       "<Figure size 640x480 with 1 Axes>"
      ]
     },
     "metadata": {},
     "output_type": "display_data"
    }
   ],
   "source": [
    "plt.plot(df['Diabetes_binary'], df['Age'])"
   ]
  },
  {
   "cell_type": "code",
   "execution_count": 10,
   "id": "b1e82e0c",
   "metadata": {},
   "outputs": [
    {
     "name": "stdout",
     "output_type": "stream",
     "text": [
      "                   HighBP  HighChol  CholCheck        BMI    Smoker    Stroke  \\\n",
      "Diabetes_binary                                                                 \n",
      "0.0              0.374243  0.381288   0.957336  27.769960  0.432326  0.031885   \n",
      "1.0              0.752674  0.670118   0.993182  31.944011  0.518220  0.092457   \n",
      "\n",
      "                 HeartDiseaseorAttack  PhysActivity    Fruits   Veggies  ...  \\\n",
      "Diabetes_binary                                                          ...   \n",
      "0.0                          0.072738      0.775533  0.638149  0.821140  ...   \n",
      "1.0                          0.222882      0.630538  0.585441  0.756408  ...   \n",
      "\n",
      "                 AnyHealthcare  NoDocbcCost   GenHlth  MentHlth  PhysHlth  \\\n",
      "Diabetes_binary                                                             \n",
      "0.0                   0.950150     0.081961  2.383183  3.042268  3.666355   \n",
      "1.0                   0.959769     0.105868  3.290981  4.461806  7.954479   \n",
      "\n",
      "                 DiffWalk       Sex       Age  Education    Income  \n",
      "Diabetes_binary                                                     \n",
      "0.0              0.134244  0.434872  7.789057   5.096390  6.186527  \n",
      "1.0              0.371216  0.479121  9.379053   4.745516  5.210094  \n",
      "\n",
      "[2 rows x 21 columns]\n"
     ]
    }
   ],
   "source": [
    "df3=df.set_index('Diabetes_binary').groupby('Diabetes_binary').mean()\n",
    "print(df3)"
   ]
  },
  {
   "cell_type": "code",
   "execution_count": null,
   "id": "7536b438",
   "metadata": {},
   "outputs": [],
   "source": []
  }
 ],
 "metadata": {
  "kernelspec": {
   "display_name": "Python 3 (ipykernel)",
   "language": "python",
   "name": "python3"
  },
  "language_info": {
   "codemirror_mode": {
    "name": "ipython",
    "version": 3
   },
   "file_extension": ".py",
   "mimetype": "text/x-python",
   "name": "python",
   "nbconvert_exporter": "python",
   "pygments_lexer": "ipython3",
   "version": "3.9.13"
  }
 },
 "nbformat": 4,
 "nbformat_minor": 5
}
